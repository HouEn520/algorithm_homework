{
 "cells": [
  {
   "cell_type": "markdown",
   "metadata": {},
   "source": [
    "## algorithm design and anlysis-2025 spring  homework 3\n",
    "**Deadline**：2025.5.14\n",
    "\n",
    "**name**:\n",
    "\n",
    "\n",
    "note：\n",
    "---\n",
    "1. 带有\\*的题目，申请免上课的同学，必须完成，其他同学选作；\n",
    "2. 请独立完成，如求助了他人或者大模型，请著明，并且不可省略算法分析部分；\n",
    "4. 如若作答有雷同，全部取消成绩；\n",
    "3. 需要书面作答的题目，可以通过引用图片的形式添加，但是注意上传项目时包含所引用的图片的源文件；\n",
    "4. $log_n$ 默认表示$log_2{n}$;"
   ]
  },
  {
   "cell_type": "markdown",
   "metadata": {},
   "source": [
    "## 问题 1  \n",
    "\n",
    "请证明基于比较的排序算法计算复杂度下界为$\\Omega(nlogn)$"
   ]
  },
  {
   "cell_type": "markdown",
   "metadata": {},
   "source": [
    "you can refer a handwritten picture, pleas upload the picture in /fig/xxx.png\n",
    "answer：\n"
   ]
  },
  {
   "cell_type": "markdown",
   "metadata": {},
   "source": [
    "![](./fig/h3q1.png)"
   ]
  },
  {
   "cell_type": "markdown",
   "metadata": {},
   "source": [
    "## 问题 2 \n",
    "\n",
    "构建二叉搜索树\n",
    "\n",
    "> 1. 给定一个数组 [48, 33, 49, 47, 42, 46, 32], 构建一个二叉搜索树存储这些数据，请**绘制**所构建的**二叉搜索树**（标明结点的值）。\n",
    "> 2. 从第1问的二叉搜索树中删除33，请**绘制**删除33后的**二叉搜索树**（标明结点的值）\n",
    "\n",
    "- 推荐使用graphviz包绘制树的结构"
   ]
  },
  {
   "cell_type": "markdown",
   "metadata": {},
   "source": [
    "you can refer a handwritten picture, pleas upload the picture in /fig/xxx.png\n",
    "answer："
   ]
  },
  {
   "cell_type": "markdown",
   "metadata": {},
   "source": [
    "![](./fig/h3q2.png)"
   ]
  },
  {
   "cell_type": "markdown",
   "metadata": {},
   "source": [
    "## 问题 3 \n",
    "\n",
    "> 下面是九门课程的开始和结束时间:\n",
    ">\n",
    "> [(9:00,12:30), (11:00,14:00), (13:00, 14:30), (9:00,10:30),(13:00, 14:30),(14:00,16:30), (15:00,16:30), (15:00,16:30), (9:00,10:30)]\n",
    ">\n",
    "> 请使用贪婪算法为这九门课分配教室，要求在同一天内安排这些课，并且每个教室同一时间只能安排一门课。\n",
    "\n",
    "**请问最少需要几间教室，罗列出每个教室安排的课程**"
   ]
  },
  {
   "cell_type": "markdown",
   "metadata": {},
   "source": [
    "idea：\n",
    "### 代码实现部分参考大模型\n",
    "* 贪心的思路：将尽可能多的课程安排在同一个教室\n",
    "* 局部最优情况：选择每一个课程的时候尽可能将其安排在已有的教室，这样需要保证课程的开始时间不与教室中最后一门课程的结束时间冲突。\n",
    "* 按照课程开始的时间进行排序来保证能及时为这些课程找到合适的教室"
   ]
  },
  {
   "cell_type": "code",
   "execution_count": 1,
   "metadata": {},
   "outputs": [
    {
     "name": "stdout",
     "output_type": "stream",
     "text": [
      "最少需要的教室数量： 3\n",
      "各教室的课程安排：\n",
      "教室 1: [(9, 12.5), (13, 14.5), (15, 16.5)]\n",
      "教室 2: [(9, 10.5), (11, 14), (14, 16.5)]\n",
      "教室 3: [(9, 10.5), (13, 14.5), (15, 16.5)]\n"
     ]
    }
   ],
   "source": [
    "#课程\n",
    "courses = [\n",
    "    (9, 12.5),    # 9:00-12:30\n",
    "    (11, 14),     # 11:00-14:00\n",
    "    (13, 14.5),   # 13:00-14:30\n",
    "    (9, 10.5),    # 9:00-10:30\n",
    "    (13, 14.5),   # 13:00-14:30\n",
    "    (14, 16.5),   # 14:00-16:30\n",
    "    (15, 16.5),   # 15:00-16:30\n",
    "    (15, 16.5),   # 15:00-16:30\n",
    "    (9, 10.5)     # 9:00-10:30\n",
    "]\n",
    "#教室\n",
    "rooms = []\n",
    "#排序课程\n",
    "courses = sorted(courses, key=lambda x: x[0])\n",
    "\n",
    "#分配教室\n",
    "for course in courses:\n",
    "    #贪心找局部最优将课程分配到已有教室\n",
    "    allocated = False\n",
    "    for room in rooms:\n",
    "        # 如果该教室的最后一门课结束时间小于等于当前课程的开始时间，可以分配\n",
    "        if room[-1][1] <= course[0]:\n",
    "            room.append(course)\n",
    "            allocated = True\n",
    "            break\n",
    "    if not allocated:\n",
    "        rooms.append([course])\n",
    "print(\"最少需要的教室数量：\", len(rooms))\n",
    "print(\"各教室的课程安排：\")\n",
    "for i, room in enumerate(rooms, 1):\n",
    "    print(f\"教室 {i}: {room}\")"
   ]
  },
  {
   "cell_type": "markdown",
   "metadata": {},
   "source": [
    "## 问题 4 \n",
    "\n",
    "> 爬楼梯问题：假设爬楼梯时你每次只能爬一阶或者爬两阶，问爬上n阶的楼梯，你一共有多少种方法\n",
    "\n",
    "请设计算法完成该问题，分析算法设计思路，计算时间复杂度，并基于python编程实现"
   ]
  },
  {
   "cell_type": "markdown",
   "metadata": {},
   "source": [
    "idea：\n",
    "* 爬楼梯问题是一个典型的动态规划问题\n",
    "* 分四步走：确定dp数组的含义；确定dp表达式；确定dp的初始化；确定dp的遍历顺序；\n",
    "\n",
    "具体思路由下图手稿得到：\n",
    "![](./fig/h3q4.png)"
   ]
  },
  {
   "cell_type": "code",
   "execution_count": 2,
   "metadata": {},
   "outputs": [
    {
     "name": "stdout",
     "output_type": "stream",
     "text": [
      "dp数组为[0, 1, 2, 3, 5, 8, 13, 21, 34, 55, 89]\n",
      "跳到10阶有89种方式\n"
     ]
    }
   ],
   "source": [
    "# add your code here\n",
    "n = 10\n",
    "#创建dp数组\n",
    "dp = [0]*(n+1)\n",
    "#初始化dp数组\n",
    "dp[1] = 1\n",
    "dp[2] = 2\n",
    "#遍历dp数组\n",
    "for i in range(3,n+1):\n",
    "    dp[i] = dp[i-2]+dp[i-1]\n",
    "print(f'dp数组为{dp}')\n",
    "print(f'跳到{n}阶有{dp[n]}种方式')\n",
    "\n",
    "\n",
    "# your algorithm time complexity is:  O(n)"
   ]
  },
  {
   "cell_type": "markdown",
   "metadata": {},
   "source": [
    "## 问题 5 \n",
    "\n",
    "> 0-1背包问题：现在有4块大理石，每个大理石对应的重量和价值使用一个元组表示, 即（重量，价值），4块大理石的重量和价值为：[(5,10), (4,40), (6,30), (3, 50)], 假设你有一辆最大承重为9的小推车，请问使用这个小推车装大理石的最大价值为多少\n",
    "\n",
    "请设计一个算法解决该问题，分析算法设计思路，计算时间复杂度，并基于python编程实现"
   ]
  },
  {
   "cell_type": "markdown",
   "metadata": {},
   "source": [
    "idea：\n",
    "典型的0-1背包问题，用二维dp数组实现，依旧分四步走：\n",
    "* 确定dp数组的含义；\n",
    "* 确定dp表达式；\n",
    "* 确定dp的初始化；\n",
    "* 确定dp的遍历顺序；\n",
    "具体思考过程如下图手稿所示：\n",
    "![](./fig/h3q5.png)"
   ]
  },
  {
   "cell_type": "code",
   "execution_count": 3,
   "metadata": {},
   "outputs": [
    {
     "name": "stdout",
     "output_type": "stream",
     "text": [
      "[[0, 0, 0, 0, 0, 10, 10, 10, 10, 10], [0, 0, 0, 0, 40, 40, 40, 40, 40, 50], [0, 0, 0, 0, 40, 40, 40, 40, 40, 50], [0, 0, 0, 50, 50, 50, 50, 90, 90, 90]]\n",
      "最大价值为90\n"
     ]
    }
   ],
   "source": [
    "# add your code here\n",
    "weigh = [5,4,6,3]\n",
    "value = [10,40,30,50]\n",
    "capacity = 9\n",
    "#创建dp数组\n",
    "dp = [[0]*(capacity+1) for _ in range(len(weigh))]\n",
    "\n",
    "#初始化dp数组\n",
    "for i in range(len(weigh)):\n",
    "    dp[i][0] = 0\n",
    "for j in range(1,capacity+1):\n",
    "    if j>=weigh[0]:\n",
    "        dp[0][j] = value[0]\n",
    "    else:\n",
    "        dp[0][j] = 0\n",
    "\n",
    "#遍历dp数组\n",
    "for i in range(1,len(weigh)):\n",
    "    for j in range(1,capacity+1):\n",
    "        if j < weigh[i]:\n",
    "            dp[i][j] = dp[i-1][j]\n",
    "        else:\n",
    "            dp[i][j] = max([dp[i-1][j],dp[i-1][j-weigh[i]]+value[i]])\n",
    "print(dp)\n",
    "print(f'最大价值为{dp[len(weigh)-1][capacity]}')\n",
    "# your algorithm time complexity is: O(nc)"
   ]
  },
  {
   "cell_type": "markdown",
   "metadata": {},
   "source": [
    "## 问题 6 \n",
    "给定 `n` 个非负整数表示每个宽度为 `1` 的柱子的高度图，计算按此排列的柱子，下雨之后能接多少雨水。\n",
    "\n",
    "\n",
    "\n",
    "<div style=\"text-align:center;width:800px;\"> <img alt=\"\" src=\"./fig/hw3q6.png\"> </div>\n",
    "\n",
    "请分析算法设计思路，计算时间复杂度，并基于python编程实现"
   ]
  },
  {
   "cell_type": "markdown",
   "metadata": {},
   "source": [
    "idea：\n",
    "* 每一列上存的雨水的高度由它的左侧最高和右侧最高共同决定\n",
    "* 每列所存高度为左侧最高和右侧最高他们两个的最小值减去这一列的高度\n",
    "* 由此可知，遍历每一列 然后分别去找它的左侧最高和右侧最高，用最高的最小值减去当列的高度就是所存雨水的高度。宽度就是1"
   ]
  },
  {
   "cell_type": "code",
   "execution_count": 4,
   "metadata": {},
   "outputs": [
    {
     "name": "stdout",
     "output_type": "stream",
     "text": [
      "能接的雨水总量为： 9\n"
     ]
    }
   ],
   "source": [
    "# 输入的柱子高度\n",
    "height = [4, 2, 0, 3, 2, 5]\n",
    "n = len(height)  # 定义变量 n\n",
    "# 创建两个数组来存储每个位置的左侧和右侧的最高柱子高度\n",
    "left_max = [0] * n\n",
    "right_max = [0] * n\n",
    "# 初始化左侧最高高度数组\n",
    "left_max[0] = height[0]\n",
    "for i in range(1, n):\n",
    "    left_max[i] = max(left_max[i-1], height[i])\n",
    "# 初始化右侧最高高度数组\n",
    "right_max[-1] = height[-1]\n",
    "for i in range(n-2, -1, -1):\n",
    "    right_max[i] = max(right_max[i+1], height[i])\n",
    "# 计算接住的雨水量\n",
    "water = 0\n",
    "for i in range(n):\n",
    "    water += max(0, min(left_max[i], right_max[i]) - height[i])\n",
    "# 输出结果\n",
    "print(\"能接的雨水总量为：\", water)"
   ]
  },
  {
   "cell_type": "markdown",
   "metadata": {},
   "source": [
    "## 问题 7 \n",
    "\n",
    "**股票投资组合优化**： 假设你是一位投资者，想要在不同的股票中分配你的资金，以最大化你的投资回报。每只股票都有不同的预期收益率和风险。你的目标是选择一些股票，使得总投资金额不超过你的预算，并且预期收益最大化。\n",
    "\n",
    "在这个情况下，你可以将每只股票视为一个“物品”，其重量为投资金额，价值为预期收益率。然后，你可以使用分级背包问题的方法来选择部分股票，以便在预算内获得最大的预期收益。\n",
    "\n",
    "以下是一个简化的例子：\n",
    "\n",
    "假设你有以下三只股票可供选择：\n",
    "\n",
    "1. 股票 A：投资金额 5000 美元，预期收益率 10%\n",
    "2. 股票 B：投资金额 3000 美元，预期收益率 8%\n",
    "3. 股票 C：投资金额 2000 美元，预期收益率 12%\n",
    "\n",
    "请设计算法找到最优投资方案，分析算法设计思路，计算时间复杂度，并基于python编程实现"
   ]
  },
  {
   "cell_type": "markdown",
   "metadata": {},
   "source": [
    "idea：\n",
    "这是一个分数背包问题，对于分数背包问题可以采用贪心的算法来解。选择单位收益率最高的股票进行投资直到预算耗尽或所有股票都被投资完毕。\n",
    "1. 计算收益率\n",
    "2. 按收益率从高到低排序\n",
    "3. 遍历，尽可能多的投资于具有最高单位收益率的股票，直到预算耗尽或该股票投资完毕。\n",
    "\n"
   ]
  },
  {
   "cell_type": "code",
   "execution_count": 5,
   "metadata": {},
   "outputs": [
    {
     "name": "stdout",
     "output_type": "stream",
     "text": [
      "最大预期收益为: 980.0 \n"
     ]
    }
   ],
   "source": [
    "# add your code here\n",
    "stocks = [5000,3000,2000] #物品体积\n",
    "rate = [0.1,0.08,0.12]    #单位价值\n",
    "budget = 10000            #背包总容量\n",
    "remain_budget = 10000     #剩余容量\n",
    "total_profit = 0          #总收益\n",
    "#按照单位价值排序物品\n",
    "stock_info = list(zip(stocks, rate))\n",
    "stock_info.sort(key=lambda x: x[1], reverse=True)\n",
    "#贪心算法计算最高收益\n",
    "for amount, r in stock_info:\n",
    "    if remain_budget >= amount:\n",
    "        total_profit += amount * r\n",
    "        remain_budget -= amount\n",
    "    else:\n",
    "        total_profit += remain_budget * r\n",
    "        remain_budget = 0\n",
    "        break\n",
    "print(f\"最大预期收益为: {total_profit} \")\n",
    "# your algorithm time complexity is:\n",
    "                                    #对股票进行排序的时间复杂度为O(nlogn)\n",
    "                                    #遍历股票列表并计算最大收益的时间复杂度为O(n)\n",
    "                                    #因此算法的时间复杂度为O(nlogn)"
   ]
  },
  {
   "cell_type": "markdown",
   "metadata": {},
   "source": [
    "## 问题 8\n",
    "\n",
    "给你二叉搜索树的根节点 root ，该树中的恰好两个节点的值被错误地交换。请在不改变其结构的情况下，恢复这棵树 。设计算法解决该问题，分析算法设计思路，计算时间复杂度，并基于python编程实现\n",
    "\n",
    "e.g.:\n",
    "---\n",
    "1.\n",
    "\n",
    "<div style=\"text-align:center;width:200px;\"> <img alt=\"\" src=\"./fig/hw3q9-1.jpg\"> </div>\n",
    "输入：root = [1,3,null,null,2]， 输出为：[3,1,null,null,2]， \n",
    "\n",
    "解释：3 不能是 1 的左孩子，因为 3 > 1 。交换 1 和 3 使二叉搜索树有效。\n",
    "\n",
    "2.\n",
    "\n",
    " <div style=\"text-align:center;width:200px;\"> <img alt=\"\" src=\"./fig/hw3q9-1.jpg\"> </div>\n",
    "输入： root=[3,1,4,null,null,2]， 输出为：[2,1,4,null,null,3]\n",
    "\n",
    "解释：2 不能在 3 的右子树中，因为 2 < 3 。交换 2 和 3 使二叉搜索树有效。"
   ]
  },
  {
   "cell_type": "markdown",
   "metadata": {},
   "source": [
    "idea： 在大模型帮助下完成\n",
    "\n",
    "二叉搜索树具有性质：对于二叉搜索树进行中序遍历所得到的就是一个递增的数列，如果节点被错误交换，那么中序遍历以后得到的数列就不是单调增的，那么只要找到排序不对的值交换他们\n",
    "两个节点的值被错误地交换就会出现两个逆序对，因此只要找到这两个逆序对 然后交换过来，然后再重新建立二叉搜索树就可以了。\n",
    "1. 对二叉搜索树进行中序遍历\n",
    "2. 找到中序遍历结果中的两个逆序对，确定这两个节点\n",
    "3. 交换这两个节点的值，恢复二叉搜索树"
   ]
  },
  {
   "cell_type": "code",
   "execution_count": 6,
   "metadata": {},
   "outputs": [
    {
     "name": "stdout",
     "output_type": "stream",
     "text": [
      "[3, 1, None, None, 2]\n"
     ]
    }
   ],
   "source": [
    "# 定义二叉树节点类\n",
    "class TreeNode:\n",
    "    def __init__(self, val=0, left=None, right=None):\n",
    "        self.val = val\n",
    "        self.left = left\n",
    "        self.right = right\n",
    "\n",
    "# 将数组转换为二叉树\n",
    "def array_to_tree(arr):\n",
    "    if not arr:\n",
    "        return None\n",
    "    root = TreeNode(arr[0])\n",
    "    queue = [root]\n",
    "    i = 1\n",
    "    while queue and i < len(arr):\n",
    "        node = queue.pop(0)\n",
    "        if i < len(arr) and arr[i] is not None:  #处理左子树\n",
    "            node.left = TreeNode(arr[i])\n",
    "            queue.append(node.left)\n",
    "        i += 1\n",
    "        if i < len(arr) and arr[i] is not None:  #处理右子树\n",
    "            node.right = TreeNode(arr[i])\n",
    "            queue.append(node.right)\n",
    "        i += 1\n",
    "    return root\n",
    "\n",
    "# 将二叉树转换回数组\n",
    "def tree_to_array(root):\n",
    "    if not root:\n",
    "        return []\n",
    "    result = []\n",
    "    queue = [root]\n",
    "    while queue:\n",
    "        node = queue.pop(0)\n",
    "        if node:\n",
    "            result.append(node.val)\n",
    "            queue.append(node.left)\n",
    "            queue.append(node.right)\n",
    "        else:\n",
    "            result.append(None)\n",
    "    # 移除末尾多余的 None\n",
    "    while result and result[-1] is None:\n",
    "        result.pop()\n",
    "    return result\n",
    "\n",
    "# 恢复二叉搜索树\n",
    "def recoverTree(root):\n",
    "    first_node = None   # 第一个错误节点\n",
    "    second_node = None  # 第二个错误节点\n",
    "    prev_node = None    # 前驱节点\n",
    "    stack = []          # 栈，用于中序遍历\n",
    "    current_node = root # 当前节点\n",
    "\n",
    "    #用栈实现中序遍历\n",
    "    while stack or current_node:\n",
    "        while current_node: #将当前节点的所有左子节点压入栈中\n",
    "            stack.append(current_node)\n",
    "            current_node = current_node.left\n",
    "        # 从栈中弹出一个节点，处理该节点\n",
    "        current_node = stack.pop()\n",
    "        # 检查是否发现逆序对\n",
    "        if prev_node and current_node.val < prev_node.val:\n",
    "            if not first_node:# 如果是第一次发现逆序对，记录第一个错误节点\n",
    "                first_node = prev_node\n",
    "                second_node = current_node\n",
    "            else: # 如果已经发现过一次逆序对，说明这是第二个逆序对，更新第二个错误节点\n",
    "                second_node = current_node\n",
    "\n",
    "        prev_node = current_node\n",
    "        current_node = current_node.right\n",
    "\n",
    "    first_node.val, second_node.val = second_node.val, first_node.val\n",
    "\n",
    "# 示例1\n",
    "arr = [1, 3, None, None, 2]\n",
    "tree = array_to_tree(arr)\n",
    "recoverTree(tree)\n",
    "print(tree_to_array(tree))  # 输出应为 [3, 1, None, None, 2]\n",
    "\n"
   ]
  },
  {
   "cell_type": "markdown",
   "metadata": {},
   "source": [
    "## 问题 9  \n",
    "\n",
    "给你一个二叉树的根节点 root ，树中每个节点都存放有一个 0 到 9 之间的数字。每条从根节点到叶节点的路径都代表一个数字：\n",
    "\n",
    "> 例如，从根节点到叶节点的路径 1 -> 2 -> 3 表示数字 123 。\n",
    "\n",
    "设计一个算法计算从根节点到叶节点生成的所有数字之和 ，分析算法设计思路，计算时间复杂度，并基于python编程实现\n",
    "\n",
    "叶节点:是指没有子节点的节点。\n",
    "\n",
    "e.g.:\n",
    "---\n",
    "1.\n",
    "\n",
    " <div style=\"text-align:center;width:200px;\"> <img alt=\"figure\" src=\"./fig/hw3q10-1.jpg\"> </div>\n",
    "\n",
    " 输入：root = [1,2,3], 输出：25\n",
    "\n",
    "解释：从根到叶子节点路径 1->2 代表数字 12，1->3 代表数字 13，因此和为 12 + 13 = 25 。\n",
    "\n",
    "2.\n",
    "\n",
    " <div style=\"text-align:center;width:200px;\"> <img alt=\"figure\" src=\"./fig/hw3q10-2.jpg\"> </div>\n",
    "\n",
    " 输入：root = [4,9,0,5,1], 输出：1026\n",
    "\n",
    "解释：从根到叶子节点路径 4->9->5 代表数字 495，4->9->1 代表数字 491，4->0 代表数字 40。因此和为 495 + 491 + 40 = 1026 。"
   ]
  },
  {
   "cell_type": "markdown",
   "metadata": {},
   "source": [
    "idea：\n",
    "每条路径都是从根到叶，想到树的深度优先遍历\n",
    "\n",
    "深度优先遍历在不是叶子节点的时候就把节点往栈里压，同时进行加和，压栈一次就把加和*10然后加上当前压栈的值\n",
    "\n",
    "1. 将数组转换为二叉树，通过构建树结构来表示数字的层次关系。\n",
    "2. dfs遍历：弹出栈顶元素，如果是叶子节点，则将当前数字累加到总和。否则，将非空的左右子节点及其对应的数字（当前数字乘 10 加上子节点的值）压入栈中。\n"
   ]
  },
  {
   "cell_type": "code",
   "execution_count": 7,
   "metadata": {},
   "outputs": [
    {
     "name": "stdout",
     "output_type": "stream",
     "text": [
      "25\n",
      "1026\n"
     ]
    }
   ],
   "source": [
    "# add your code here\n",
    "class TreeNode:\n",
    "    def __init__(self, val=0, left=None, right=None):\n",
    "        self.val = val\n",
    "        self.left = left\n",
    "        self.right = right\n",
    "\n",
    "def array_to_tree(arr):\n",
    "    if not arr:\n",
    "        return None\n",
    "    \n",
    "    root = TreeNode(arr[0])\n",
    "    queue = [root]\n",
    "    i = 1\n",
    "    \n",
    "    while queue and i < len(arr):\n",
    "        node = queue.pop(0)\n",
    "        \n",
    "        if i < len(arr) and arr[i] is not None:\n",
    "            node.left = TreeNode(arr[i])\n",
    "            queue.append(node.left)\n",
    "        i += 1\n",
    "        \n",
    "        if i < len(arr) and arr[i] is not None:\n",
    "            node.right = TreeNode(arr[i])\n",
    "            queue.append(node.right)\n",
    "        i += 1\n",
    "    \n",
    "    return root\n",
    "\n",
    "def sum(root):\n",
    "    stack = [(root, root.val)]  # 栈中存储节点和当前路径的数字\n",
    "    total_sum = 0\n",
    "    \n",
    "    while stack:\n",
    "        node, current_sum = stack.pop()\n",
    "        \n",
    "        # 如果是叶子节点，累加当前路径的数字\n",
    "        if not node.left and not node.right:\n",
    "            total_sum += current_sum\n",
    "        else:\n",
    "            # 将右子节点入栈\n",
    "            if node.right:\n",
    "                stack.append((node.right, current_sum * 10 + node.right.val))\n",
    "            # 将左子节点入栈\n",
    "            if node.left:\n",
    "                stack.append((node.left, current_sum * 10 + node.left.val))\n",
    "    \n",
    "    return total_sum\n",
    "\n",
    "\n",
    "arr1 = [1, 2, 3]\n",
    "tree1 = array_to_tree(arr1)\n",
    "print(sum(tree1))  \n",
    "\n",
    "arr2 = [4, 9, 0, 5, 1]\n",
    "tree2 = array_to_tree(arr2)\n",
    "print(sum(tree2)) \n",
    "# your algorithm time complexity is: O(n)"
   ]
  },
  {
   "cell_type": "markdown",
   "metadata": {},
   "source": [
    "## 问题 10  \n",
    "\n",
    "给你一个二叉树的根节点 root ， 检查它是否轴对称。\n",
    "\n",
    "1. 分析算法设计思路，计算时间复杂度，并基于python编程实现\n",
    "2. \\* 设计使用递归和迭代两种方法解决这个问题，计算时间复杂度，并基于python编程实现\n",
    "\n",
    "e.g.:\n",
    "---\n",
    "1.\n",
    "\n",
    " <div style=\"text-align:center;width:200px;\"> <img alt=\"figure\" src=\"./fig/hw3q11-1.png\"> </div>\n",
    "\n",
    " 输入：root = [1,2,2,3,4,4,3]， 输出：true\n",
    "\n",
    "解释：二叉树 [1,2,2,3,4,4,3] 对称。\n",
    "\n",
    "2.\n",
    "\n",
    " <div style=\"text-align:center;width:200px;\"> <img alt=\"figure\" src=\"./fig/hw3q11-2.png\"> </div>\n",
    "\n",
    " 输入：root = [1,2,2,null,3,null,3]， 输出：false"
   ]
  },
  {
   "cell_type": "markdown",
   "metadata": {},
   "source": [
    "idea:\n",
    "根节点的左子树外侧和右子树外侧要相等，所以左右两边判断完以后的结果才能返回给根节点，所以遍历的时候应该采用后序遍历进行递归\n",
    "\n",
    "递归的终止条件：\n",
    "* 左节点空 右节点不空  返回false\n",
    "* 左节点不空 右节点空  返回false\n",
    "* 左右都空  返回true\n",
    "* 左右值不等 返回false\n",
    "遍历：\n",
    "\n",
    "如果左右值都相等，则继续向下遍历。继续比较左边节点的左子树和右边节点的右子树  以及左边节点的右子树 和 右边节点的左子树是否能翻转。"
   ]
  },
  {
   "cell_type": "code",
   "execution_count": 8,
   "metadata": {},
   "outputs": [
    {
     "name": "stdout",
     "output_type": "stream",
     "text": [
      "True\n"
     ]
    }
   ],
   "source": [
    "# add your code here\n",
    "class TreeNode:\n",
    "    def __init__(self, val=0, left=None, right=None):\n",
    "        self.val = val\n",
    "        self.left = left\n",
    "        self.right = right\n",
    "def array_to_tree(arr):\n",
    "    if not arr:\n",
    "        return None\n",
    "    root = TreeNode(arr[0])\n",
    "    queue = [root]\n",
    "    i = 1\n",
    "    while queue and i < len(arr):\n",
    "        node = queue.pop(0)\n",
    "        if i < len(arr) and arr[i] is not None:\n",
    "            node.left = TreeNode(arr[i])\n",
    "            queue.append(node.left)\n",
    "        i += 1\n",
    "        if i < len(arr) and arr[i] is not None:\n",
    "            node.right = TreeNode(arr[i])\n",
    "            queue.append(node.right)\n",
    "        i += 1\n",
    "    return root\n",
    "\n",
    "def analysis(left, right):\n",
    "    # 左节点空 右节点不空  返回false\n",
    "   if left==None and right!=None:\n",
    "       return False\n",
    "    # 左节点不空 右节点空  返回false\n",
    "   elif left!=None and right==None:\n",
    "       return False\n",
    "    # 左右都空  返回true\n",
    "   elif left==None and right==None:\n",
    "       return True\n",
    "    # 左右值不等 返回false\n",
    "   elif left.val != right.val:\n",
    "       return False\n",
    "   # 左右不空且值相等则进行遍历\n",
    "   #外侧 ,左节点的左子树 和右节点的右子树\n",
    "   outside = analysis(left.left,right.right)\n",
    "   #内测，左节点的右子树 和右节点的左子树\n",
    "   inside  = analysis(left.right,right.left)\n",
    "   return outside and inside\n",
    "\n",
    "def panduan(root):\n",
    "    #判断根节点的左子树和右子树是否可以翻转\n",
    "    return analysis(root.left, root.right)\n",
    "\n",
    "arr1 = [1, 2, 2, 3, 4, 4, 3]\n",
    "root1 = array_to_tree(arr1)\n",
    "print(panduan(root1))  # 输出应为True\n",
    "# your algorithm time complexity is:  O(n)"
   ]
  },
  {
   "cell_type": "markdown",
   "metadata": {},
   "source": [
    "## 问题 11  \n",
    "\n",
    "给你一个由 '1'（陆地）和 '0'（水）组成的的二维网格，请你计算网格中岛屿的数量。岛屿总是被水包围，并且每座岛屿只能由水平方向和/或竖直方向上相邻的陆地连接形成。\n",
    "\n",
    "此外，你可以假设该网格的四条边均被水包围。\n",
    "\n",
    "分析算法设计思路，计算时间复杂度，并基于python编程实现\n",
    "\n",
    "e.g.:\n",
    "---\n",
    "1.\n",
    "输入：grid = [\n",
    "\n",
    "    [\"1\",\"1\",\"1\",\"1\",\"0\"],\n",
    "\n",
    "    [\"1\",\"1\",\"0\",\"1\",\"0\"], \n",
    "\n",
    "    [\"1\",\"1\",\"0\",\"0\",\"0\"], \n",
    "\n",
    "    [\"0\",\"0\",\"0\",\"0\",\"0\"]  \n",
    "\n",
    "]\n",
    "\n",
    "输出：1\n",
    "\n",
    "2.\n",
    "输入：grid = [\n",
    "\n",
    "    [\"1\",\"1\",\"0\",\"0\",\"0\"],\n",
    "\n",
    "    [\"1\",\"1\",\"0\",\"0\",\"0\"],\n",
    "\n",
    "    [\"0\",\"0\",\"1\",\"0\",\"0\"],\n",
    "\n",
    "    [\"0\",\"0\",\"0\",\"1\",\"1\"]\n",
    "\n",
    "]\n",
    "\n",
    "输出：3"
   ]
  },
  {
   "cell_type": "markdown",
   "metadata": {},
   "source": [
    "idea:\n",
    "这是一个典型的求岛屿数的问题，遇到陆地后将其相连的所有陆地标记为访问过的陆地即同一块陆地，因此需要使用搜索算法。\n",
    "遍历整个网格，当遇到一个未被访问过的陆地格子时，就将岛屿数量加一，并从该格子出发，利用 DFS 遍历与之相连的所有陆地格子，并将这些格子标记为已访问。\n",
    "\n",
    "dfs函数：\n",
    "* 若当前格子是海水或者已经被访问过，则直接返回。、\n",
    "* 标记当前格子为已访问，然后按照四个方向（上下左右）依次递归遍历相邻格子，继续搜索相连的陆地。\n",
    "\n",
    "然后就是对每个格子都进行遍历，如果是陆地，并且没有被搜索过则岛屿+1并且通过dfs搜索标记和他相连的陆地"
   ]
  },
  {
   "cell_type": "code",
   "execution_count": 9,
   "metadata": {},
   "outputs": [
    {
     "name": "stdout",
     "output_type": "stream",
     "text": [
      "3\n"
     ]
    }
   ],
   "source": [
    "# add your code here\n",
    "\n",
    "grid = [\n",
    "\n",
    "    [\"1\",\"1\",\"0\",\"0\",\"0\"],\n",
    "\n",
    "    [\"1\",\"1\",\"0\",\"0\",\"0\"],\n",
    "\n",
    "    [\"0\",\"0\",\"1\",\"0\",\"0\"],\n",
    "\n",
    "    [\"0\",\"0\",\"0\",\"1\",\"1\"]\n",
    "\n",
    "]\n",
    "\n",
    "#建立visited数组来记录是否被访问过\n",
    "rows, cols = len(grid), len(grid[0])\n",
    "visited = [[False]*cols for _ in range(rows)]\n",
    "result = 0\n",
    "\n",
    "#定义一个方向指示数组\n",
    "dir = [\n",
    "            [0,1],\n",
    "            [1,0],\n",
    "            [-1,0],\n",
    "            [0,-1]\n",
    "]\n",
    "\n",
    "#dfs\n",
    "def dfs(gird,visited,x,y):\n",
    "    #递归终止条件\n",
    "    if gird[x][y]=='0' or visited[x][y] ==True :\n",
    "        return\n",
    "    visited[x][y] = True\n",
    "    #递归遍历处理四个方向\n",
    "    for i in range(4):\n",
    "        next_x = x + dir[i][0]\n",
    "        next_y = y + dir[i][1]\n",
    "        if next_x <0 or next_x >= rows or next_y < 0 or next_y >= cols:\n",
    "            continue\n",
    "        dfs(gird,visited,next_x,next_y)\n",
    "    \n",
    "\n",
    "#遍历图\n",
    "for i in range(rows):\n",
    "    for j in range(cols):\n",
    "        #如果是陆地，并且没有被搜索过则岛屿+1并且标记和他相连的陆地\n",
    "        if grid[i][j] == '1' and not visited[i][j]:\n",
    "            result += 1\n",
    "            #搜索和它相连的陆地\n",
    "            dfs(grid,visited,i,j)\n",
    "\n",
    "\n",
    "\n",
    "\n",
    "\n",
    "print(result)\n",
    "# your algorithm time complexity is:"
   ]
  }
 ],
 "metadata": {
  "kernelspec": {
   "display_name": "Python 3",
   "language": "python",
   "name": "python3"
  },
  "language_info": {
   "codemirror_mode": {
    "name": "ipython",
    "version": 3
   },
   "file_extension": ".py",
   "mimetype": "text/x-python",
   "name": "python",
   "nbconvert_exporter": "python",
   "pygments_lexer": "ipython3",
   "version": "3.9.21"
  }
 },
 "nbformat": 4,
 "nbformat_minor": 2
}

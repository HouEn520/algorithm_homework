{
 "cells": [
  {
   "cell_type": "markdown",
   "metadata": {},
   "source": [
    "## algorithm design and anlysis-2025 spring  homework 2\n",
    "**Deadline**：2025.5.14\n",
    "\n",
    "**name**:\n",
    "\n",
    "\n",
    "note：\n",
    "---\n",
    "1. 带有\\*的题目，申请免上课的同学，必须完成，其他同学选作；\n",
    "2. 请独立完成，如求助了他人或者大模型，请著明，并且不可省略算法分析部分；\n",
    "4. 如若作答有雷同，全部取消成绩；\n",
    "3. 需要书面作答的题目，可以通过引用图片的形式添加，但是注意上传项目时包含所引用的图片的源文件；\n",
    "4. $log_n$ 默认表示$log_2{n}$;"
   ]
  },
  {
   "cell_type": "markdown",
   "metadata": {},
   "source": [
    "## 问题 1  \n",
    "\n",
    "> 给定一个已排序的链表的头 `head` ， *删除所有重复的元素，使每个元素只出现一次* 。返回 *已排序的链表* 。链表的类如下所示：\n",
    "\n",
    "```python\n",
    "class NodeList:\n",
    "    def __init__(self, val=None, right=None):\n",
    "        self.val   = val\n",
    "        self.right = right\n",
    "```\n",
    "\n",
    "输入是一个数组，你首先需要将数组转化为链表，然后删除链表中的重复元素，再遍历链表元素，以一个数组的形式返回。请设计一个算法解决上述任务，分析算法设计思路，计算时间复杂度, 并基于python编程实现。\n",
    "\n",
    "e.g.  输入：head=[1, 1, 2, 3, 3]   输出：[1, 2, 3]\n",
    "\n",
    "![image-20240502110020439](./fig/hw2q1.png)\n",
    "\n"
   ]
  },
  {
   "cell_type": "markdown",
   "metadata": {},
   "source": [
    "idea："
   ]
  },
  {
   "cell_type": "code",
   "execution_count": 8,
   "metadata": {
    "jupyter": {
     "is_executing": true
    }
   },
   "outputs": [
    {
     "ename": "SyntaxError",
     "evalue": "invalid syntax (2737969367.py, line 2)",
     "output_type": "error",
     "traceback": [
      "\u001b[1;36m  Cell \u001b[1;32mIn[8], line 2\u001b[1;36m\u001b[0m\n\u001b[1;33m    1. 遍历数组将数组转换成链表\u001b[0m\n\u001b[1;37m       ^\u001b[0m\n\u001b[1;31mSyntaxError\u001b[0m\u001b[1;31m:\u001b[0m invalid syntax\n"
     ]
    }
   ],
   "source": [
    "# add your idea here\n",
    "1. 遍历数组将数组转换成链表\n",
    "2. 因为是已经排序了的数组，所以重复的元素一定是相邻的，这样只使用一个遍历节点p就可以了，如果p.right的元素和p指向的节点元素相同，那么久让p的right指向p.right.right.\n",
    "# your algorithm time complexity is:\n",
    "1. 遍历数组的时间复杂度是O(n)\n",
    "2. 遍历链表的时间复杂度是O(n)\n",
    "3. 再次遍链表的时间复杂度是O(n)\n",
    "因此时间复杂度是O(3n) 即时间复杂度是O(n)"
   ]
  },
  {
   "cell_type": "code",
   "execution_count": null,
   "metadata": {
    "jupyter": {
     "is_executing": true
    }
   },
   "outputs": [],
   "source": [
    "class NodeList:\n",
    "    def __init__(self, val=None, right=None):\n",
    "        self.val   = val\n",
    "        self.right = right\n",
    "\n",
    "head = [1,1,2,3,3,4,4,4,4,4,5,8,8,9,9,9,9]\n",
    "#创建头节点\n",
    "list_head = NodeList(head[0],None)\n",
    "#遍历数组元素创建链表\n",
    "current_node = list_head\n",
    "for i in range(1,len(head)):\n",
    "    current_node.right = NodeList(head[i],None)\n",
    "    current_node = current_node.right\n",
    "\n",
    "# 遍历链表删除链表中的重复元素\n",
    "p = list_head\n",
    "while p and p.right:\n",
    "    if p.val == p.right.val:\n",
    "        p.right = p.right.right\n",
    "        \n",
    "    else:\n",
    "        p = p.right\n",
    "#删除重复元素后的链表转换成数组\n",
    "list_out = []\n",
    "q = list_head\n",
    "while q :\n",
    "    list_out.append(q.val)\n",
    "    q = q.right\n",
    "print(list_out)"
   ]
  },
  {
   "cell_type": "markdown",
   "metadata": {},
   "source": [
    "## 问题 2  \n",
    "\n",
    "> 下面是一个经典的算法问题：\n",
    ">\n",
    "> - 给定包含n个整数的一个整数数组 `nums` 和一个整数目标值 `target`，请你在该数组中找出 **和为目标值** *`target`* 的那 **两个** 整数，并返回它们的**数组下标**。假设每种输入只会对应一个答案。但是，数组中同一个元素在答案里不能重复出现。你可以按任意顺序返回答案。\n",
    ">\n",
    "> 由于要多次查找数组中元素的位置，为了提高查询效率可以使用哈希表来存储数组中的数据，在哈希表中查询一个元素的复杂度为O(1)。 已知python中的字典是使用哈希表实现的，即使用`dict[key]`查询对应的value时间复杂度为O(1), python提供了查询字典是否包含某个key的功能：`key in dict`，时间复杂度也是O(1)\n",
    "\n",
    "请根据上面信息，设计一个时间复杂度为O(n) 的算法，解决上述算法问题\n",
    "\n",
    "e.g.   \n",
    "\n",
    "输入：nums=[2,7,11,15], target=9， 输出：[0，1]\n",
    "\n",
    "输入：nums=[3,2,4], target=6, 输出：[1,2]\n",
    "\n",
    "输入：nums=[3,3], target=6,  输出：[0,1]\n"
   ]
  },
  {
   "cell_type": "code",
   "execution_count": null,
   "metadata": {},
   "outputs": [],
   "source": [
    "# add your idea here\n",
    "因为查询一个元素的复杂度为O(1),而要设计时间复杂的为O(n)的算法，则该算法最多查询n次哈希表。因为要找到两个整数，因此可以通过哈希表去查找当前值和目标值的差值是否存在。\n",
    "这样只需要遍历一遍数组，就可以找到了。\n",
    "# your algorithm time complexity is: O(n)"
   ]
  },
  {
   "cell_type": "code",
   "execution_count": null,
   "metadata": {},
   "outputs": [],
   "source": [
    "nums = [2,7,11,15]\n",
    "target = 13\n",
    "result = []\n",
    "#创建哈希表，存放的是元素和目标的差值\n",
    "cha_hash = {}\n",
    "    \n",
    "# 遍历数组\n",
    "for i, num in enumerate(nums):\n",
    "    # 计算与当前元素相加等于目标值的另一个元素的值\n",
    "    cha = target - num\n",
    "    # 如果这个值已经在哈希表中，返回结果\n",
    "    if cha in cha_hash:\n",
    "        result.append(cha_hash[cha])\n",
    "        result.append(i)\n",
    "    # 将当前元素和它的索引存入哈希表\n",
    "    cha_hash[num] = i\n",
    "print(result)"
   ]
  },
  {
   "cell_type": "markdown",
   "metadata": {},
   "source": [
    "## 问题 3:   \n",
    "\n",
    "> 栈是一种常用的数据结构，编译器中通常使用栈来实现表达式求值。\n",
    ">\n",
    "> 以表达式 $3+5 \\times 8-6$​ 为例。编译器使用两个栈来完成运算，即一个栈保持操作数，另一个栈保存运算符。\n",
    ">\n",
    "> 1. 从左向右遍历表达式，遇到数字就压入操作数栈；\n",
    ">\n",
    "> 2. 遇到运算符，就与运算符栈的栈顶元素进行比较。如果比运算符栈顶元素的优先级高，就将当前运算符压入栈；如果比运算符栈顶元素的优先级低或者相同，从运算符栈中取栈顶运算符，从操作数栈的栈顶取 2 个操作数，然后进行计算，再把计算完的结果压入操作数栈，继续比较。\n",
    ">\n",
    "> 下图是 $3+5 \\times 8-6$  这个表达式的计算过程：\n",
    "\n",
    "![figure](./fig/hw2q3.png)\n",
    "\n",
    "根据上述原理，请设计一个算法完成表达式的运算，当输入为表达式字符串，返回对应的计算结果。分析算法设计思路，计算时间复杂度，并基于python编程实现\n",
    "\n",
    "**note：**\n",
    "\n",
    "1. 假设输入的表达式只会出现加（“+”），减 “-”， 乘“*”，除 “/” 四个运算符, 表达式中只会出现正整数\n",
    "2. python中` str.isdigit()`函数可以判断字符串str是否为数字，\n",
    "\n",
    "\n",
    "\n",
    "e.g. :\n",
    "---\n",
    "\n",
    "1. 输入：“$3+5 * 8 -6$”   输出：37\n",
    "\n",
    "2. 输入：“$34+13*9 + 44-12/3$”  输出：191"
   ]
  },
  {
   "cell_type": "markdown",
   "metadata": {},
   "source": [
    "idea："
   ]
  },
  {
   "cell_type": "code",
   "execution_count": null,
   "metadata": {},
   "outputs": [
    {
     "ename": "SyntaxError",
     "evalue": "invalid character '，' (U+FF0C) (1161087662.py, line 2)",
     "output_type": "error",
     "traceback": [
      "\u001b[1;36m  Cell \u001b[1;32mIn[5], line 2\u001b[1;36m\u001b[0m\n\u001b[1;33m    简单计算器的思路就按照题目中给的规则来处理数字栈和运算符栈的入栈出栈，其中存在的细节需要实现的有：\u001b[0m\n\u001b[1;37m                                      ^\u001b[0m\n\u001b[1;31mSyntaxError\u001b[0m\u001b[1;31m:\u001b[0m invalid character '，' (U+FF0C)\n"
     ]
    }
   ],
   "source": [
    "# add your idea here\n",
    "简单计算器的思路就按照题目中给的规则来处理数字栈和运算符栈的入栈出栈，其中存在的细节需要实现的有：\n",
    "1. 利用运算符的优先级比较来决定何时进行运算，确保高优先级的运算符先执行。因此定义一个比较函数，根据运算符返回其优先级，+ 和 - 优先级为 1，* 和 / 优先级为 2。\n",
    "2. 为了能正确地找到数字，需要遇到数字的时候继续往下遍历直到不是数字为止，然后根据10倍的倍数关系，将数字加起来得到最终的数字\n",
    "# your algorithm time complexity is: \n",
    "                    时间复杂度为 O(n)                "
   ]
  },
  {
   "cell_type": "code",
   "execution_count": null,
   "metadata": {},
   "outputs": [
    {
     "name": "stdout",
     "output_type": "stream",
     "text": [
      "表达式的计算结果是: 191\n"
     ]
    }
   ],
   "source": [
    "biaodashi = \"34+13*9+44-12/3\"\n",
    "stack_digit = []  # 数字栈\n",
    "stack_signal = []  # 运算符栈\n",
    "\n",
    "def compare(signal):\n",
    "    if signal == '+' or signal == '-':\n",
    "        return 1\n",
    "    elif signal == '*' or signal == '/':\n",
    "        return 2\n",
    "    return 0\n",
    "\n",
    "def calculate(d1, d2, op):\n",
    "    if op == '+':\n",
    "        return d1 + d2\n",
    "    elif op == '-':\n",
    "        return d1 - d2\n",
    "    elif op == '*':\n",
    "        return d1 * d2\n",
    "    elif op == '/':\n",
    "        return int(d1 / d2)\n",
    "\n",
    "i = 0\n",
    "while i < len(biaodashi):\n",
    "    if biaodashi[i].isdigit():\n",
    "        val = 0\n",
    "        while i < len(biaodashi) and biaodashi[i].isdigit(): #确保找到正确的数字\n",
    "            val = val * 10 + int(biaodashi[i])\n",
    "            i += 1\n",
    "        stack_digit.append(val)\n",
    "        i -= 1  # 因为外层循环还会i+=1，所以这里要i-=1，保持i正确\n",
    "    else:\n",
    "        # 当前运算符优先级小于等于栈顶运算符优先级时，先计算栈顶运算符\n",
    "        while stack_signal and compare(biaodashi[i]) <= compare(stack_signal[-1]):\n",
    "            op = stack_signal.pop()\n",
    "            d2 = stack_digit.pop()\n",
    "            d1 = stack_digit.pop()\n",
    "            stack_digit.append(calculate(d1, d2, op))\n",
    "        stack_signal.append(biaodashi[i])\n",
    "    i += 1\n",
    "\n",
    "# 处理剩余的运算符\n",
    "while stack_signal:\n",
    "    op = stack_signal.pop()\n",
    "    d2 = stack_digit.pop()\n",
    "    d1 = stack_digit.pop()\n",
    "    stack_digit.append(calculate(d1, d2, op))\n",
    "\n",
    "print(\"表达式的计算结果是:\", stack_digit.pop())"
   ]
  },
  {
   "cell_type": "markdown",
   "metadata": {},
   "source": [
    "## 问题 4:  \n",
    "\n",
    "> 星球碰撞问题：现有n个星球，在同一条直线上运行，如数组A所示，元素的绝对值表示星球的质量，负数表示星球自右向左运动，正数表示星球自左向右运动，当两个星球相撞的时候，质量小的会消失，大的保持不变，**质量相同的两个星球碰撞后自右向左运动的星球消失，自左向右的星球保持不变**，假设所有星球的速度大小相同。\n",
    ">\n",
    "> $ A=[23,-8, 9, -3, -7, 9, -23, 22] $\n",
    "\n",
    "请设计一个算法模拟星球的运行情况，输出最终的星球存续情况（输出一个数组），分析算法设计思路，计算时间复杂度，并基于python编程实现。\n",
    "\n",
    "e.g.\n",
    "---\n",
    "1.  输入： A=[-3,-6,2,8, 5,-8,9,-2,1]， 输出：[-3, -6, 2, 8, 9, 1]\n",
    "\n",
    "2. 输入：A=[23,-8, 9, -3, -7, 9, -23, 22], 输出：[23, 22]\n",
    "\n"
   ]
  },
  {
   "cell_type": "code",
   "execution_count": null,
   "metadata": {},
   "outputs": [],
   "source": [
    "# add your idea here\n",
    "1. 因为速度相同，所以只需要担心相邻的两个元素他们的方向以及大小\n",
    "2. 使用栈，在入栈的时候根据规则来进行相应的处理\n",
    "    * 如果栈空则直接入栈\n",
    "    * 如果栈顶元素和当前元素的符号相同则一定不会碰撞，直接入栈\n",
    "    * 如果栈顶元素和当前元素的符号不相同则进行比较：\n",
    "        ** 如果栈顶是负数，该元素是正数 则不会碰撞直接入栈\n",
    "        ** 如果栈顶是正数，该元素是负数，则比较绝对值:\n",
    "            *** 如果绝对值不相等，栈顶大则抛弃当前元素; 如果栈顶小，则栈弹出元素，继续比较新的栈顶和当前元素(又是一次入栈的操作)\n",
    "            *** 如果绝对值相等，栈顶是负则弹出元素，将当前元素入栈，如果栈顶是正数则抛弃当前元素。\n",
    "# your algorithm time complexity is: \n",
    "                    时间复杂度为 O(n)                "
   ]
  },
  {
   "cell_type": "code",
   "execution_count": null,
   "metadata": {},
   "outputs": [
    {
     "name": "stdout",
     "output_type": "stream",
     "text": [
      "[-3, -6, 2, 8, 9, 1]\n"
     ]
    }
   ],
   "source": [
    "planets = [-3,-6,2,8, 5,-8,9,-2,1]\n",
    "\n",
    "stack = [] \n",
    "def push(stack,planet):\n",
    "    if len(stack) == 0: # 如果栈空则直接入栈\n",
    "        stack.append(planet)\n",
    "    else:\n",
    "        if stack[-1] * planet > 0: #如果栈顶元素和当前元素的符号相同则一定不会碰撞，直接入栈\n",
    "           stack.append(planet) \n",
    "        else: # 如果栈顶元素和当前元素的符号不相同则进行比较：\n",
    "            if stack[-1]<0 and planet>0: # 如果栈顶是负数，该元素是正数 则不会碰撞直接入栈\n",
    "                stack.append(planet) \n",
    "            elif stack[-1]>0 and planet<0: # 如果栈顶是正数，该元素是负数，则比较绝对值\n",
    "                if abs(stack[-1]) > abs(planet):  # 如果绝对值不相等，栈顶大则抛弃当前元素 \n",
    "                    pass\n",
    "                elif abs(stack[-1]) < abs(planet):# 如果栈顶小，则栈弹出元素，将当前元素入栈\n",
    "                    stack.pop()\n",
    "                    push(stack,planet)\n",
    "                elif abs(stack[-1]) == abs(planet): # 如果绝对值相等，\n",
    "                    if stack[-1] <0 : # 栈顶是负则弹出元素，将当前元素入栈，\n",
    "                        stack.pop()\n",
    "                        stack.append(planet) \n",
    "                    else:#如果栈顶是正数则抛弃当前元素。\n",
    "                        pass\n",
    "for planet in planets:\n",
    "    push(stack,planet)\n",
    "\n",
    "print(stack)\n",
    "\n"
   ]
  },
  {
   "cell_type": "markdown",
   "metadata": {},
   "source": [
    "## 问题 5 \n",
    "\n",
    "> 给定一个无序数组nums=[9,-3,-10,0,9,7,33]，请建立一个二叉搜索树存储数组中的所有元素，之后删除二叉树中的元素“0”，再使用中序遍历输出二叉搜索树中的所有元素。\n",
    "\n",
    "使用python编程完成上述任务，并计算时间复杂度\n"
   ]
  },
  {
   "cell_type": "code",
   "execution_count": null,
   "metadata": {},
   "outputs": [],
   "source": [
    "# add your idea here\n",
    "#题目中的操作包含了二叉搜索树插入节点、二叉搜索树查找节点、二叉搜索树删除节点、二叉搜索树中序遍历。分别根据二叉搜索树的规则定义这些操作\n",
    "# your algorithm time complexity is:\n",
    "#*创建的时间复杂度是O(nlogn)， 删除是O(logn)  中序遍历是O(n)"
   ]
  },
  {
   "cell_type": "code",
   "execution_count": null,
   "metadata": {},
   "outputs": [
    {
     "name": "stdout",
     "output_type": "stream",
     "text": [
      "[-10, -3, 7, 9, 9, 33]\n"
     ]
    }
   ],
   "source": [
    "#定义二叉树节点\n",
    "class Node:\n",
    "    def __init__(self, val=0, left=None, right=None):\n",
    "        self.val = val\n",
    "        self.left = left\n",
    "        self.right = right\n",
    "\n",
    "#二叉搜索树插入操作\n",
    "def Insert_Node(root,val):\n",
    "    if not root:  #如果为空\n",
    "        return Node(val) \n",
    "    if val < root.val:\n",
    "        root.left = Insert_Node(root.left, val)\n",
    "    else:\n",
    "        root.right = Insert_Node(root.right, val)\n",
    "    return root\n",
    "#建立二叉搜索树\n",
    "def Create_Tree(list):\n",
    "    root = None\n",
    "    for i in list:\n",
    "        root = Insert_Node(root,i)\n",
    "    return root\n",
    "\n",
    "\n",
    "#二叉搜索树删除操作\n",
    "def Delete(root, key):\n",
    "    if key < root.val:\n",
    "        root.left = Delete(root.left, key)\n",
    "    elif key > root.val:\n",
    "        root.right = Delete(root.right, key)\n",
    "    else: # 当 key 等于当前节点的值时，开始处理节点删除逻辑。\n",
    "        if not root.left:# 节点只有一个子节点或没有子节点\n",
    "            return root.right\n",
    "        elif not root.right:\n",
    "            return root.left\n",
    "        else: #节点有两个子节点\n",
    "            min_larger_node = root.right \n",
    "            while min_larger_node.left:# 找到右子树中的最小值节点\n",
    "                min_larger_node = min_larger_node.left\n",
    "            root.val = min_larger_node.val #值替换\n",
    "            root.right = Delete(root.right, root.val) # 删除右子树中最小值节点\n",
    "    return root\n",
    "\n",
    "#二叉搜索树中序遍历操作\n",
    "def Inorder_Traversal(root):\n",
    "    if root is None:\n",
    "        return []\n",
    "    # 递归遍历左子树\n",
    "    left_result = Inorder_Traversal(root.left)\n",
    "    # 访问当前节点\n",
    "    current_result = [root.val]\n",
    "    # 递归遍历右子树\n",
    "    right_result = Inorder_Traversal(root.right)\n",
    "    # 合并结果\n",
    "    return left_result + current_result + right_result\n",
    "\n",
    "\n",
    "nums=[9,-3,-10,0,9,7,33]\n",
    "root = Create_Tree(nums)\n",
    "root = Delete(root,0)\n",
    "result = Inorder_Traversal(root)\n",
    "print(result)"
   ]
  },
  {
   "cell_type": "markdown",
   "metadata": {},
   "source": [
    "## 问题 6  \n",
    "\n",
    "> 给定一个包含大写字母和小写字母的字符串 s ，返回 字符串包含的 **最长的回文子串的长度** 。请注意 区分大小写 。比如 \"Aa\" 不能当做一个回文字符串。\n",
    ">\n",
    "\n",
    "请设计一个算法解决上述问题，只需要输出最长回文子串的长度，分析算法设计思路，计算时间复杂度，并基于python编程实现\n",
    "\n",
    "e.g. 输入： s=\"adccaccd\"，  输出：7。 最长回文子串为：\"dccaccd\", 长度为7\n"
   ]
  },
  {
   "cell_type": "markdown",
   "metadata": {},
   "source": [
    "![figure](./fig/h2q6.png)"
   ]
  },
  {
   "cell_type": "code",
   "execution_count": null,
   "metadata": {},
   "outputs": [],
   "source": [
    "\n",
    "# your algorithm time complexity is:   O(n^2)"
   ]
  },
  {
   "cell_type": "code",
   "execution_count": null,
   "metadata": {},
   "outputs": [
    {
     "name": "stdout",
     "output_type": "stream",
     "text": [
      "7\n"
     ]
    }
   ],
   "source": [
    "s = \"adccaccd\"\n",
    "dp = []\n",
    "#第一步：创建dp数组\n",
    "dp = [[0] * len(s) for _ in range(len(s))]\n",
    "for i in range(len(s)):\n",
    "    dp[i][i] = 1\n",
    "        \n",
    "#第二步：遍历dp\n",
    "for i in range(len(s)-1, -1, -1):\n",
    "    for j in range(i+1, len(s)):\n",
    "        if s[i] == s[j]:\n",
    "            dp[i][j] = dp[i+1][j-1] + 2\n",
    "        else:\n",
    "            dp[i][j] = max(dp[i+1][j], dp[i][j-1])\n",
    "print(dp[0][-1])"
   ]
  },
  {
   "cell_type": "markdown",
   "metadata": {},
   "source": [
    "## 问题 7 \n",
    "\n",
    "> 沿一条长河流分散着n座房子。你可以把这条河想象成一条轴，房子是由它们在这条轴上的坐标按顺序排列的。你的公司想在河边的特定地点设置手机基站，这样每户人家都在距离基站4公里的范围内。输入可以看作为一个升序数组，数组元素的取值为大于等于0的正整数，你需要输出最小基站的数目，基站的位置。\n",
    "\n",
    "1. 给出一个时间复杂度为$O(n$) 的算法，使所使用的基站数量最小化，分析算法设计思路，使用python编程实现\n",
    "2. 证明1.中算法产生了最优解决方案。\n",
    "\n",
    "e.g. \n",
    "\n",
    "输入： [1, 5, 12, 33, 34,35]  输出：基站数目为3， 基站位置为[1，12，33]\n",
    "\n"
   ]
  },
  {
   "cell_type": "markdown",
   "metadata": {},
   "source": [
    "idea：  \n",
    "## 本题在大模型帮助下完成\n",
    "1. 要求时间复杂度为 O(n)也就是要能够线性遍历每一步都尽可能覆盖更多的房子，于是采用贪心算法\n",
    "2. 因为是升序数组，从左到右依次处理每个房子。对于当前未被覆盖的第一个房子，将其作为基站的位置，并覆盖其后4公里范围内的所有房子。一旦设置了基站，跳过所有在该基站覆盖范围内的房子，继续处理下一个未被覆盖的房子。\n"
   ]
  },
  {
   "cell_type": "code",
   "execution_count": null,
   "metadata": {},
   "outputs": [],
   "source": [
    "# add your idea here\n",
    "# your algorithm time complexity is: O(n^2)"
   ]
  },
  {
   "cell_type": "code",
   "execution_count": null,
   "metadata": {},
   "outputs": [
    {
     "name": "stdout",
     "output_type": "stream",
     "text": [
      "基站数目为 3, 基站位置为 [1, 12, 33]\n"
     ]
    }
   ],
   "source": [
    "house = [1, 5, 12, 33, 34, 35]\n",
    "i = 0\n",
    "base_stations = []   #记录设置基站的地方\n",
    "while i < len(house):\n",
    "    current = house[i]\n",
    "    base_station = current\n",
    "    base_stations.append(base_station)\n",
    "    # 跳过基站覆盖的房子\n",
    "    while i < len(house) and house[i] <= base_station + 4:\n",
    "        i += 1    \n",
    "\n",
    "print(f\"基站数目为 {len(base_stations)}, 基站位置为 {base_stations}\")"
   ]
  },
  {
   "cell_type": "markdown",
   "metadata": {},
   "source": [
    "## 问题 8  \n",
    "\n",
    "> 给定由n个正整数组成的一个集合$S = \\{a_1, a_2，···，a_n\\}$和一个正整数W，设计一个算法确定是否存在S的一个子集 $K \\subseteq S$, 使K中所有数之和为 $W$, 如果存在返回“True”，否则返回“False”\n",
    "\n",
    "请设计一个时间复杂度为$O(nW)$动态规划算法，解决上述问题，分析算法的设计思路，并且基于python编程实现（不需要输出子集）。\n",
    "\n",
    "e.g. \n",
    "\n",
    "输入：S = {1,4,7,3,5}， W = 11，输出：True。   因为K可以是{4,7}。\n",
    "\n"
   ]
  },
  {
   "cell_type": "markdown",
   "metadata": {},
   "source": [
    "idea:\n",
    "![](./fig/h2q8.jpg)"
   ]
  },
  {
   "cell_type": "code",
   "execution_count": null,
   "metadata": {},
   "outputs": [],
   "source": [
    "# add your idea here\n",
    "# your algorithm time complexity is: O(nW)"
   ]
  },
  {
   "cell_type": "code",
   "execution_count": null,
   "metadata": {},
   "outputs": [
    {
     "name": "stdout",
     "output_type": "stream",
     "text": [
      "True\n"
     ]
    }
   ],
   "source": [
    "S = [1, 4, 7, 3, 5]\n",
    "W = 11\n",
    "n = len(S)\n",
    "\n",
    "# 初始化一个(n+1) x (W+1)的二维数组，全部填充为False\n",
    "dp = [[False] * (W + 1) for _ in range(n + 1)]\n",
    "\n",
    "# 当w为0时，总是可以找到空集\n",
    "for i in range(n + 1):\n",
    "    dp[i][0] = False\n",
    "\n",
    "# 初始化第一行：只有当w等于第一个元素时才为True\n",
    "for j in range(1, W + 1):\n",
    "    dp[1][j] = (S[0] == j)\n",
    "\n",
    "# 填充动态规划表\n",
    "for i in range(2, n + 1):  # 遍历从第二个元素开始\n",
    "    for j in range(1, W + 1):  # 遍历所有可能的和\n",
    "        if j >= S[i-1]:\n",
    "            # 选择该元素或者不选该元素\n",
    "            dp[i][j] = dp[i-1][j] or dp[i-1][j - S[i-1]]\n",
    "        else:\n",
    "            # 不能选择该元素\n",
    "            dp[i][j] = dp[i-1][j]\n",
    "\n",
    "# 输出结果\n",
    "print(dp[n][W])  # 输出：True"
   ]
  },
  {
   "cell_type": "markdown",
   "metadata": {},
   "source": [
    "\n",
    "\n",
    "## 问题 9 \n",
    "\n",
    "> 给定一个n个物品的集合。物体的重量为$w_1, w_2，…、w_n$，物品的价值分别是$v_1、v_2、…v_n$。给你**两个**重量为 $c$ 的背包。如果你带了一个东西，它可以放在一个背包里，也可以放在另一个背包里，但不能同时放在两个背包里。所有权重和价值都是正整数。\n",
    "\n",
    "1. 设计一个时间复杂度为 $O(nc^2)$ 的动态规划算法，确定可以放入两个背包的物体的最大价值。分析算法设计思路，并基于python编程实现\n",
    "2. \\* 修改1中的算法，输出每个背包的内容（物品对应下标）。\n",
    "\n",
    "e.g.: \n",
    "\n",
    "输入 V=[1,3,2,5,8,7], W=[1,3,2,5,8,7], c=7, 输出：最大价值=14，背包装的物品为：[6] [4，3] （同一个背包中物品装入顺序对结果无影响）  \n"
   ]
  },
  {
   "cell_type": "markdown",
   "metadata": {},
   "source": [
    "idea：\n",
    "## 本题在大模型的帮助下完成\n",
    "1. 对于每个物品，它可能被放入第一个背包、第二个背包，或者不被放入任何一个背包。需要同时跟踪两个背包的重量变化以及对应的最大价值。\n",
    "2. $dp[i][j][k]的表达式:\n",
    "不选择当前物品 i:dp[i][j][k] = dp[i-1][j][k]\n",
    "将当前物品放入第一个背包：dp[i][j][k] = max(dp[i][j][k], dp[i-1][j - w_i][k] + v_i)\n",
    "将当前物品放入第二个背包： dp[i][j][k] = max(dp[i][j][k], dp[i-1][j][k - w_i] + v_i)\n",
    "$\n",
    "3. dp数组初始化:\n",
    "* dp[0][0][0] = 0\n",
    "* 除了dp[0][0][0]外，所有其他元素都被初始化为负无穷。这是因为这些状态在初始时是不可达的。负无穷表示一种不可能的值，在后续的动态规划过程中，只有当某个状态可以通过合法的操作达到时，才会被更新为一个有效的值。"
   ]
  },
  {
   "cell_type": "code",
   "execution_count": null,
   "metadata": {},
   "outputs": [],
   "source": [
    "# add your idea here\n",
    "# your algorithm time complexity is: O(nc^2)"
   ]
  },
  {
   "cell_type": "code",
   "execution_count": null,
   "metadata": {},
   "outputs": [],
   "source": [
    "V = [1, 3, 2, 5, 8, 7]\n",
    "W = [1, 3, 2, 5, 8, 7]\n",
    "c = 7\n",
    "n = len(V)\n",
    "\n",
    "# 初始化三维动态规划数组\n",
    "dp = [[[ -float('inf') for _ in range(c+1)] for __ in range(c+1)] for ___ in range(n+1)]\n",
    "dp[0][0][0] = 0  # 初始状态\n",
    "\n",
    "for i in range(1, n+1):\n",
    "    wi = W[i-1]\n",
    "    vi = V[i-1]\n",
    "    for j in range(c+1):\n",
    "        for k in range(c+1):\n",
    "            # 不选当前物品\n",
    "            if dp[i-1][j][k] != -float('inf'):\n",
    "                dp[i][j][k] = max(dp[i][j][k], dp[i-1][j][k])\n",
    "            # 放入第一个背包\n",
    "            if j >= wi and dp[i-1][j - wi][k] != -float('inf'):\n",
    "                dp[i][j][k] = max(dp[i][j][k], dp[i-1][j - wi][k] + vi)\n",
    "            # 放入第二个背包\n",
    "            if k >= wi and dp[i-1][j][k - wi] != -float('inf'):\n",
    "                dp[i][j][k] = max(dp[i][j][k], dp[i-1][j][k - wi] + vi)\n",
    "\n",
    "max_val = 0\n",
    "# 寻找最大价值\n",
    "for j in range(c+1):\n",
    "    for k in range(c+1):\n",
    "        if dp[n][j][k] > max_val:\n",
    "            max_val = dp[n][j][k]\n",
    "print(\"最大价值 =\", max_val)"
   ]
  },
  {
   "cell_type": "markdown",
   "metadata": {},
   "source": [
    "## 问题 10 \n",
    "\n",
    "> 给定两个字符串 $x[1..n]$ 和 $y[1..m]$，我们想通过以下操作将 $x$ 变换为 $y$ :\n",
    ">\n",
    "> **插入**：在 $x$ 中插入一个字符(在任何位置)；**删除**：从 $x$ 中删除一个字符(在任何位置)； **替换**：用另一个字符替换 $x$ 中的一个字符。\n",
    ">\n",
    "> 例如: $x = abcd$, $y = bcfe$，\n",
    ">\n",
    "> - 将 $x$ 转换为 $y$ 的一种可能方法是：1. 删除 $x$ 开头的 $a$, $x$变成 $bcd$； 2. 将 $x$ 中的字符 $d$ 替换为字符 $f$。$x$ 变成 $bcf$； 3. 在 $x$ 的末尾插入字符 $e$。$x$ 变成 $bcfe$。\n",
    ">\n",
    "> - 另一种可能的方法：1. 删除 $x$ 开头的 $a$,  $x$ 变成 $bcd$； 2. 在 $x$ 中字符 $d$ 之前插入字符 $f$。$x$ 变成 $bcfd$。3. 将 $x$ 中的字符 $d$ 替换为字符 $e$。$x$ 变成 $bcfe$。\n",
    "\n",
    "设计一个时间复杂度为 $O(mn)$ 的算法，返回将 $x$ 转换为 $y$ 所需的最少操作次数。分析算法设计思路，并基于python编程实现。\n"
   ]
  },
  {
   "cell_type": "markdown",
   "metadata": {},
   "source": [
    "idea：\n",
    "## 本题在大模型帮助下完成\n",
    "\n",
    "1. 明确dp数组的含义\n",
    "dp[i][j]：表示将字符串 x 的前 i 个字符转换为字符串 y 的前 j 个字符所需的最少操作次数。\n",
    "2. 明确状态转移方程：\n",
    "* 如果 x[i-1] == y[j-1]，说明当前字符相同：dp[i][j] = dp[i-1][j-1]\n",
    "* 否则取三种操作的最小值\n",
    "** 插入：dp[i][j] = dp[i][j-1] + 1\n",
    "** 删除：dp[i][j] = dp[i-1][j] + 1\n",
    "** 替换：dp[i][j] = dp[i-1][j-1] + 1\n",
    "\n",
    "3. 确定dp数组初始化：\n",
    "* dp[0][0] = 0：两个空字符串不需要任何操作。\n",
    "* dp[i][0] = i：将字符串 x 的前 i 个字符转换为空字符串 y，需要删除 i 次。\n",
    "* dp[0][j] = j：将空字符串 x 转换为字符串 y 的前 j 个字符，需要插入 j 次。"
   ]
  },
  {
   "cell_type": "code",
   "execution_count": null,
   "metadata": {},
   "outputs": [],
   "source": [
    "# add your idea here\n",
    "# your algorithm time complexity is: O(mn)"
   ]
  },
  {
   "cell_type": "code",
   "execution_count": null,
   "metadata": {},
   "outputs": [
    {
     "name": "stdout",
     "output_type": "stream",
     "text": [
      "最少操作次数: 3\n"
     ]
    }
   ],
   "source": [
    "x = \"abcd\"\n",
    "y = \"bcfe\"\n",
    "\n",
    "m = len(x)\n",
    "n = len(y)\n",
    "\n",
    "#创建dp数组\n",
    "dp = [[0] * (n + 1) for _ in range(m + 1)]\n",
    "\n",
    "#初始化dp数组\n",
    "for i in range(m + 1):\n",
    "    dp[i][0] = i\n",
    "for j in range(n + 1):\n",
    "    dp[0][j] = j\n",
    "\n",
    "#遍历dp数组\n",
    "for i in range(1, m + 1):\n",
    "    for j in range(1, n + 1):\n",
    "        if x[i-1] == y[j-1]:\n",
    "            dp[i][j] = dp[i-1][j-1]\n",
    "        else:\n",
    "            insert = dp[i][j-1] + 1\n",
    "            delete = dp[i-1][j] + 1\n",
    "            replace = dp[i-1][j-1] + 1\n",
    "            dp[i][j] = min(insert, delete, replace)\n",
    "\n",
    "# 输出结果\n",
    "print(\"最少操作次数:\", dp[m][n])"
   ]
  }
 ],
 "metadata": {
  "kernelspec": {
   "display_name": "Python 3",
   "language": "python",
   "name": "python3"
  },
  "language_info": {
   "codemirror_mode": {
    "name": "ipython",
    "version": 3
   },
   "file_extension": ".py",
   "mimetype": "text/x-python",
   "name": "python",
   "nbconvert_exporter": "python",
   "pygments_lexer": "ipython3",
   "version": "3.9.21"
  }
 },
 "nbformat": 4,
 "nbformat_minor": 2
}

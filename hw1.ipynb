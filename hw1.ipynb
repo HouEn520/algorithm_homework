{
 "cells": [
  {
   "cell_type": "markdown",
   "metadata": {},
   "source": [
    "## algorithm design and anlysis-2025 spring  homework 1 \n",
    "**Deadline**：2025.5.14\n",
    "\n",
    "**name**:\n",
    "\n",
    "\n",
    "note：\n",
    "---\n",
    "1. 带有\\*的题目，申请免上课的同学，必须完成，其他同学选作；\n",
    "2. 请独立完成，如求助了他人或者大模型，请著明，并且不可省略算法分析部分；\n",
    "4. 如若作答有雷同，全部取消成绩；\n",
    "3. 需要书面作答的题目，可以通过引用图片的形式添加，但是注意上传项目时包含所引用的图片的源文件；\n",
    "4. $log_n$ 默认表示$log_2{n}$;"
   ]
  },
  {
   "cell_type": "markdown",
   "metadata": {},
   "source": [
    "## 问题 1\n",
    "\n",
    "对于下面的每一对表达式(A, B), A是否能表示为B的 $\\Theta, \\Omega ,O$形式. 请注意, 这些关系中的零个、一个或多个可能成立。列出所有正确的。经常发生一些学生会,把指示写错, 所以请把关系写完整, 例如: $A = O(B),  A =\\Theta(B)$, 或$A = \\Omega(B)$。\n",
    "\n",
    "1. $A=n^2-100n, B=n^2$\n",
    "2. $A=logn, B=log_{1.2}n$\n",
    "3. $A=3^{2n}, B=2^{4n}$\n",
    "4. $A=2^{logn}, B=n$\n",
    "5. $A=\\log{\\log}{n},B=10^{10^{100}}$"
   ]
  },
  {
   "cell_type": "markdown",
   "metadata": {},
   "source": [
    "can refer a handwritten picture, pleas upload the picture in /fig/xxx.png\n",
    "answer:\n"
   ]
  },
  {
   "cell_type": "markdown",
   "metadata": {},
   "source": [
    "![](fig\\h1q1.jpg)"
   ]
  },
  {
   "cell_type": "markdown",
   "metadata": {},
   "source": [
    "## 问题 2：\n",
    "\n",
    "假设有函数 $f$ 和 $g$ 使得 $f(n)$ = $O(g(n))$ 对于下面的每一个陈述, 请判断对错, 如果正确请给出证明, 否则请给出一个反例。\n",
    "\n",
    "1. $\\log{f(n)}$ = $O(\\log(1+g(n)))$\n",
    "2. $3^{f(n)}=O(3^{g(n)})$\n",
    "3. $(f(n))^2=O((g(n))^2)$ "
   ]
  },
  {
   "cell_type": "markdown",
   "metadata": {},
   "source": [
    "you can refer a handwritten picture, pleas upload the picture in /fig/xxx.png\n",
    "answer:"
   ]
  },
  {
   "cell_type": "markdown",
   "metadata": {},
   "source": [
    "![](fig\\h1q2.png)"
   ]
  },
  {
   "cell_type": "markdown",
   "metadata": {},
   "source": [
    "## 问题 3\n",
    "\n",
    "根据下列递归公式, 计算下列 $T(n)$ 对应的的渐近上界。要求所求的边界尽可能的紧（tight）, 请写明步骤。\n",
    "\n",
    "1. $T(1)=1; T(n)=T(n/4)+1$ for $n>1$\n",
    "2. $T(1)=1;T(n)=3T(n/3)+n^2$ for $n>1$\n",
    "3. $T(1)=1;T(n)=T(2n/3)+1$ for $n>1$\n",
    "4. $T(1)=1;T(n)=5T(n/4)+n$ for $n>1$\n",
    "5. $T(n)=1 \\ for\\ n \\le 2 ; T(n)=T(\\sqrt{n})+1 \\ for \\ n>2$"
   ]
  },
  {
   "cell_type": "markdown",
   "metadata": {},
   "source": [
    "can refer a handwritten picture, pleas upload the picture in /fig/xxx.png\n",
    "answer:"
   ]
  },
  {
   "cell_type": "markdown",
   "metadata": {},
   "source": [
    "![](fig\\h1q3.png)"
   ]
  },
  {
   "cell_type": "markdown",
   "metadata": {},
   "source": [
    "## 问题 4：\n",
    "\n",
    "给定一个包含n个元素的数组 `profits` , 它的第 `i` 个元素 `profits[i]` 表示一支股票第 `i` 天的**收益**（正数表示涨, 负数表示跌）。你只能选择 **某一天** 买入这只股票, 并选择在 **未来的某一个不同的日子** 卖出该股票。\n",
    "\n",
    "1. 设计一个算法来计算你所能获取的最大利润和对应买入和卖出的日期。请分析算法方案, 计算其时间复杂度, 并且使用python编程实现该算法。\n",
    "\n",
    "2. \\* 设计一个时间复杂度为 $O(n)$的算法实现该算法\n",
    "\n",
    "e.g. :\n",
    "---\n",
    "profits=[3,2,1,-7,5,2,-1,3,-1], 第5天买入, 第8天卖出, 收益最大：9\n",
    "\n"
   ]
  },
  {
   "cell_type": "markdown",
   "metadata": {},
   "source": [
    "想法如下：\n",
    "暴力搜索，通过循环嵌套遍历所有的买入、买出的时间，以及这样的买入卖出所取得的收益，使用一个变量记录下当前迭代的最大收益并更新。"
   ]
  },
  {
   "cell_type": "code",
   "execution_count": null,
   "metadata": {},
   "outputs": [
    {
     "name": "stdout",
     "output_type": "stream",
     "text": [
      "第1天买入，第6天卖出，收益最大为：26\n"
     ]
    }
   ],
   "source": [
    "# add your code\n",
    "profits = [7, 1, 5, 3, 6, 4]\n",
    "buy_best = 0    #买入最好\n",
    "sell_best = 0   #卖出最好\n",
    "max_profit = 0  #最高收益\n",
    "my_profit = 0   #当前收益\n",
    "for buy in range(len(profits)):  \n",
    "    for sell in range(buy+1,len(profits)):\n",
    "        if buy < sell:\n",
    "            for i in range(buy,sell+1): #遍历当前买卖下的收益\n",
    "                my_profit += profits[i]\n",
    "            if my_profit >= max_profit:\n",
    "                max_profit = my_profit\n",
    "                buy_best = buy+1\n",
    "                sell_best = sell+1\n",
    "        my_profit = 0\n",
    "\n",
    "print(\"第{}天买入，第{}天卖出，收益最大为：{}\".format(buy_best,sell_best,max_profit))\n"
   ]
  },
  {
   "cell_type": "code",
   "execution_count": null,
   "metadata": {},
   "outputs": [],
   "source": [
    "# an algorithm with O(n)"
   ]
  },
  {
   "cell_type": "markdown",
   "metadata": {},
   "source": [
    "## 问题 5：\n",
    "\n",
    "观察下方的分治算法（divide-and-conquer algorithm）的伪代码, 回答下面问题\n",
    "\n",
    "```latex\n",
    "DoSomething(A,p,r)\n",
    "-----\n",
    "n := r-p+1\n",
    "if n=2 and A[p]>A[r] then\n",
    "    swap A[p] and A[r]\n",
    "else if n >= 3 then\n",
    "    m = ceil(2n/3)\n",
    "    DoSomething(A,p,p+m-1)\n",
    "    DoSomething(A,r-m+1,r)\n",
    "    DoSomething(A,p,p+m-1)  \n",
    "    \n",
    "---\n",
    "first call: DoSomething(A,1,n)\n",
    "```\n",
    "\n",
    "note：$ceil(2n/3)=\\left\\lceil {2n/3} \\right\\rceil$；$:=$ 表示赋值, 等价于 $\\to$；A是一个包含n的整数元素的数组, \n",
    "\n",
    "1. 写出该算法时间复杂度的递归公式, 并求解其对应的渐进表示\n",
    "2. 描述一下该算法的功能, 并判断是否是最高效的解决方案\n",
    "3. 使用python编程实现上述算法或其对应的更高效版本的算法\n"
   ]
  },
  {
   "cell_type": "markdown",
   "metadata": {},
   "source": [
    "![](fig\\h1q5.png)"
   ]
  },
  {
   "cell_type": "markdown",
   "metadata": {},
   "source": [
    "idea："
   ]
  },
  {
   "cell_type": "markdown",
   "metadata": {},
   "source": [
    "该算法的功能是对数组A进行排序,将数组分成前2n/3和后2n/3部分，其中存在交叉部分，因此需要对前2n/3和后2n/3部分进行递归排序之后再对前2n/3进行排序，为了恢复排序后2n/3部分时对之前已经排序好的前2n/3造成的影响"
   ]
  },
  {
   "cell_type": "markdown",
   "metadata": {},
   "source": [
    "answer:"
   ]
  },
  {
   "cell_type": "code",
   "execution_count": null,
   "metadata": {},
   "outputs": [
    {
     "name": "stdout",
     "output_type": "stream",
     "text": [
      "排序后: [1, 2, 3, 4, 5, 6, 7, 8, 9, 10]\n",
      "\n"
     ]
    }
   ],
   "source": [
    "# add your code here\n",
    "def swap(A,a,b):\n",
    "    temp = A[b]\n",
    "    A[b] = A[a]\n",
    "    A[a] = temp\n",
    "\n",
    "def DoSomething(A, p, r):\n",
    "    n = r - p + 1\n",
    "    if n == 2 and A[p] > A[r]:\n",
    "        swap(A,p,r)  # 交换两个元素\n",
    "    elif n >= 3:\n",
    "        m = (2 * n + 2) // 3  #ceil(2n/3)\n",
    "        DoSomething(A, p, p + m - 1)      # 第一次处理前m个\n",
    "        DoSomething(A, r - m + 1, r)      # 处理后m个\n",
    "        DoSomething(A, p, p + m - 1)      # 再次处理前m个\n",
    "\n",
    "if __name__ == \"__main__\":\n",
    "    test_cases = [10, 9, 8, 7, 6, 5, 4, 3, 2, 1]\n",
    "    DoSomething(test_cases, 0, len(test_cases) - 1)\n",
    "    print(f\"排序后: {test_cases}\\n\")\n",
    "\n",
    "# your algorithm time complexity is :\n",
    "cita(n^log3/2 3)"
   ]
  },
  {
   "cell_type": "markdown",
   "metadata": {},
   "source": [
    "## 问题 6：\n",
    "\n",
    "给定一个大小为 `n` 的数组 `nums` , 返回其中的多数元素。多数元素是指在数组中出现次数 **大于** `⌊ n/2 ⌋` 的元素。\n",
    "\n",
    "你可以假设数组是非空的, 并且给定的数组总是存在多数元素。\n",
    "\n",
    "1. 设计一个算法找到给定数组的多数元素, 分析算法设计思路, 计算算法时间复杂度, 使用python编程实现\n",
    "2. \\* 设计时间复杂度为 O(n)、空间复杂度为 O(1) 的算法解决此问题, 分析算法设计思路, 使用python编程实现\n",
    "\n",
    "e.g.:\n",
    "---\n",
    "1. nums=[3,2,3], 返回3\n",
    "2. nums=[2,2,1,1,1,2,2], 返回2\n"
   ]
  },
  {
   "cell_type": "markdown",
   "metadata": {},
   "source": [
    "idea："
   ]
  },
  {
   "cell_type": "markdown",
   "metadata": {},
   "source": [
    "创建变量sum记录元素出现的个数，对数组nums从头元素开始依次进行遍历，如果遇到和该元素相同的元素，则sum加1。 \n",
    "创建记录最大出现的次数，max_sum，以及出现次数最多的元素的下标，每轮遍历后与max_sum进行比较，对max_sum即max_index进行更新，"
   ]
  },
  {
   "cell_type": "code",
   "execution_count": 26,
   "metadata": {},
   "outputs": [
    {
     "name": "stdout",
     "output_type": "stream",
     "text": [
      "多数元素为: 5\n",
      "\n"
     ]
    }
   ],
   "source": [
    "# add your code here\n",
    "def find_most(A,length):\n",
    "    nums = A\n",
    "    counter = [1] * length\n",
    "    max_index = 0   #记录最大值的下标\n",
    "    max_sum = 1     #记录最大值\n",
    "    sum = 1         #暂存当前值出现的次数\n",
    "    for i in range(length):\n",
    "        for j in range(length):\n",
    "            if nums[j] == nums[i] and i!=j:\n",
    "                sum += 1\n",
    "        if sum >= max_sum:\n",
    "            max_sum = sum\n",
    "            max_index = i\n",
    "        sum = 1\n",
    "    return nums[max_index]\n",
    "if __name__ == \"__main__\":\n",
    "    test_cases = [10, 10, 8, 7, 7, 5, 7, 5, 5, 5]        \n",
    "    print(f\"多数元素为: {find_most(test_cases,len(test_cases))}\\n\")\n",
    "\n",
    "\n",
    "\n",
    "\n",
    "# your algorithm time complexity is :\n",
    "#                                               O(n2)"
   ]
  },
  {
   "cell_type": "markdown",
   "metadata": {},
   "source": [
    "idea for 2\\*："
   ]
  },
  {
   "cell_type": "code",
   "execution_count": null,
   "metadata": {},
   "outputs": [],
   "source": [
    "# algorithm time complexity：O(n), space complexity:O(1)\n",
    "# add your code here"
   ]
  },
  {
   "cell_type": "markdown",
   "metadata": {},
   "source": [
    "## 问题 7：\n",
    "\n",
    "给定一个包含不同整数元素的数组 $ A[1..n]$ ,并且满足条件：$A[1]>A[2]$ 并且 $A[n-1]<A[n]$; 规定：如果一个元素比它两边的邻居元素都小, 即：$A[x]<A[x-1], A[x]<A[x+1]$ , 称这个元素A[x]为“局部最小”。通过遍历一次数组, 我们可以很容易在 $O(n)$的时间复杂度下找到一个局部最小值, \n",
    "\n",
    "\n",
    "1. 分析该问题, 设计一个算法在$O(logn)$的时间复杂度下找到一个局部最小(返回数值), 要求：分析算法设计思路, 并且使用python编程实现\n",
    "2. \\* 设计算法找出所有局部最小值, 分析算法设计思路, 并使用python编程实现\n",
    "\n",
    "e.g.:\n",
    "---\n",
    "A=[9, 3, 7, 2, 1, 4, 5 ] 时,  局部最小元素为 3, 1\n"
   ]
  },
  {
   "cell_type": "markdown",
   "metadata": {},
   "source": [
    "idea："
   ]
  },
  {
   "cell_type": "markdown",
   "metadata": {},
   "source": [
    "提到时间复杂度为O(logn)就要想到二分法\n",
    "因为开头是下降的结尾是上升的，且不存在相同的元素所以最起码有1个局部最小值\n",
    "设定low  high 以及mid 下标，如果mid不是局部最小，那么它的某一边一定存在局部最小，通过比较比较min对应的值和他的邻居值的大小可以确定搜索的方向。\n",
    "如果A[mid] > A[mid-1],则说明左侧是下降的，又因为最左边即A[1]往右是下降的，因此左侧部分一定存在一个局部最小值\n",
    "如果A[mid] > A[mid+1],则说明右侧侧是下降的，又因为最右边即A[n]往左是下降的，因此左侧部分一定存在一个局部最小值"
   ]
  },
  {
   "cell_type": "code",
   "execution_count": null,
   "metadata": {},
   "outputs": [
    {
     "name": "stdout",
     "output_type": "stream",
     "text": [
      "1\n"
     ]
    }
   ],
   "source": [
    "# add your code here\n",
    "def Binary_Find(array,length):\n",
    "    low = 0\n",
    "    high = length-1\n",
    "    \n",
    "    while low <= high:\n",
    "        mid = (high+low)//2\n",
    "        if (mid ==0 or array[mid] < array[mid-1]) and (mid == length-1 or array[mid] < array[mid+1]):\n",
    "            return array[mid]\n",
    "        if array[mid] > array[mid - 1]:\n",
    "            high = mid - 1  # 向左搜索\n",
    "        else:\n",
    "            low = mid + 1   # 向右搜索\n",
    "A=[9, 3, 7, 2, 1, 4, 5 ]\n",
    "print(Binary_Find(A,len(A)))\n",
    "# your algorithm time complexity is :\n",
    "#                                       log(n)"
   ]
  },
  {
   "cell_type": "markdown",
   "metadata": {},
   "source": [
    "idea:"
   ]
  },
  {
   "cell_type": "code",
   "execution_count": 30,
   "metadata": {},
   "outputs": [],
   "source": [
    "# add your code here\n",
    "# your algorithm time complexity is :"
   ]
  },
  {
   "cell_type": "markdown",
   "metadata": {},
   "source": [
    "## 问题 8：\n",
    "\n",
    "给定包含n个不同数字的一组数, 寻找一种基于比较的算法在这组数中找到k个最小的数字, 并按顺序输出它们。\n",
    "\n",
    "1. 将n个数先进行排序, 然后按顺序输出最小的k个数。要求：选择合适的排序算法实现上述操作, 计算算法时间复杂度, 并使用python编程实现。\n",
    "2. 建立一个包含这n个数的堆（heap）, 并且调用 k 次Extract-min 按顺序输出最小的k个数。使用往空堆中不断插入元素的方法建立堆, 分析这种方法建堆的时间复杂度, 并使用python编程实现\n",
    "3. \\* 假设数组中包含的数据总数目超过了计算机的存储能力, 请设计一个算法, 找到这堆数据的前k小的数值, 计算时间复杂度, 并使用python实现该算法, 假设计算机一定能存储k个数据。\n",
    "\n",
    "e.g.：\n",
    "---\n",
    "数组arr=[5,4,3,2,6,1,88,33,22,107] 的前3个最小数据为：1, 2, 3\n"
   ]
  },
  {
   "cell_type": "markdown",
   "metadata": {},
   "source": [
    "idea："
   ]
  },
  {
   "cell_type": "markdown",
   "metadata": {},
   "source": [
    "问题一 直接随便采取什么样的排序算法都可以\n",
    "问题二 插入法建立小根堆然后找根节点和根节点的左右孩子节点就是前k个最小数据\n",
    "    找最小数据的方法就是从建立的小根堆中取出根节点，将最后一个数据和根节点数据替换，然后在进行堆排序，把剩下的数据中最小的数浮上来。重复k此"
   ]
  },
  {
   "cell_type": "code",
   "execution_count": null,
   "metadata": {},
   "outputs": [
    {
     "name": "stdout",
     "output_type": "stream",
     "text": [
      "[1, 2, 3, 4, 5, 7, 9]\n"
     ]
    }
   ],
   "source": [
    "# add your code here\n",
    "def Bubble_Sort(data,length):\n",
    "    for i in range(length):\n",
    "        for j in range(length-1,i,-1):\n",
    "            if data[j] <= data[j-1]:\n",
    "                temp = data[j-1]\n",
    "                data[j-1] = data[j]\n",
    "                data[j] = temp\n",
    "\n",
    "A=[9, 3, 7, 2, 1, 4, 5 ]\n",
    "Bubble_Sort(A,len(A))\n",
    "print(A)\n",
    "# your algorithm time complexity is :\n",
    "#                                     O(n^2)"
   ]
  },
  {
   "cell_type": "code",
   "execution_count": null,
   "metadata": {},
   "outputs": [
    {
     "name": "stdout",
     "output_type": "stream",
     "text": [
      "[2, 3, 4, 6]\n"
     ]
    }
   ],
   "source": [
    "def Create_Heap_By_Insert(data):\n",
    "    heap = []\n",
    "    for num in data:\n",
    "        heap.append(num)\n",
    "        i = len(heap) - 1 \n",
    "        while i > 0 and heap[i] < heap[(i - 1) // 2]:#从最后一个元素开始网上浮 小于父节点的话就交换位置\n",
    "            heap[i], heap[(i - 1) // 2] = heap[(i - 1) // 2], heap[i]\n",
    "            i = (i - 1) // 2\n",
    "    return  heap           \n",
    "def Extract_min(data,k):\n",
    "    result = []\n",
    "    for i in range(k):\n",
    "        #取出堆顶元素\n",
    "        result.append(data[0])\n",
    "        #将最后一个元素放到堆顶然后下沉，把当前堆中最小的数浮上来\n",
    "        data[0] = data[-1]\n",
    "        data.pop()\n",
    "        j = 0\n",
    "        n = len(data)\n",
    "        while True:\n",
    "            left = 2 * j + 1    #左孩子\n",
    "            right = 2 * j + 2   #右孩子\n",
    "            smallest = j\n",
    "            #判断左孩子和右孩子是否比父节点小 如果小就交换\n",
    "            if left < n and data[left] < data[smallest]:\n",
    "                smallest = left\n",
    "            if right < n and data[right] < data[smallest]:\n",
    "                smallest = right\n",
    "                \n",
    "            if smallest == j:\n",
    "                break\n",
    "            data[j], data[smallest] = data[smallest], data[j]\n",
    "            j = smallest\n",
    "    \n",
    "    return result\n",
    "nums = [8,6,7,3,4,2,9]\n",
    "Extract_min(Create_Heap_By_Insert(nums),4)\n",
    "print(Extract_min(Create_Heap_By_Insert(nums),4))\n",
    "\n",
    "# 插入建堆的时间复杂度是  O(nlogn)"
   ]
  },
  {
   "cell_type": "markdown",
   "metadata": {},
   "source": [
    "## 问题 9：\n",
    "\n",
    "**选择问题**:给定一个包含n个未排序值的数组A和一个$k≤n$的整数, 返回A中最小的第k项。\n",
    "\n",
    "在课堂上, 学了一个简单的O(n)随机算法来解决选择问题。事实上还有一种更复杂的最坏情况下时间复杂度为$O(n)$ 的选择算法。假设使用一个黑盒过程来实现这个O(n)选择算法: 给定一个数组A、 $p < r$ 和 k,  $BB(A, p, r, k)$ 可以在$O(r−p+ 1)$时间内找到并报告$A[p..r]$中第k小的项的下标。假设你可以在线性时间内处理Partition过程。\n",
    "\n",
    "1. 请分析如何修改 Quicksork 算法可以使其最差情况下的运行时间为 $O(nlogn)$, 使用伪代码实现, 并分析为何修改后的版本最差情况的运行时间为$O(nlogn)$\n",
    "\n",
    "note: 伪代码中, 你可以直接调用用` BB(A,p,r,k)`这个函数用于表示在最坏情况下时间复杂度为$O(n)$的选择算法；\n",
    "\n",
    "\n",
    "\n",
    "2. 找到一个更好的算法报告数组A中的前k小的项, 使用伪代码表示你的算法, 并分析你算法的时间复杂度。\n",
    "\n",
    "举例：A=[13, 3, 7, 9, 11, 1, 15, 2, 8, 10, 12, 16, 14, 5], 当k=4时, 应该报告1, 2, 3, 4\n",
    "\n",
    "note： 最直观的方法就是先将数组A排序, 然后从左向右报告其前k项, 这样操作的时间复杂度为$O(nlogn)$. 调用用` BB(A,p,r,k)`设计一个算法使其报告无序数组A的前k项, 满足时间复杂度好于$\\Theta(nlogn)$, 并且当$k=\\sqrt{n}$时, 你设计的算法时间复杂度应该为$\\Theta(n)$.\n",
    "\n",
    "\n",
    "\n",
    "3. 给定一个大小为n的数组, 找到一个 时间复杂度为$O(n log k)$ 的算法, 该算法将A中的元素重新排序, 使它们被划分为k个部分, 每个部分的元素小于或等于下一部分的元素。假设n和k都是2的幂。使用伪代码表示你的算法, 并分析时间复杂度。\n",
    "\n",
    "e.g.:\n",
    "---\n",
    "数组：[1,  3,  5,  7,  9,  11,  13,  15,  2,  4,  6,  8,  10,  12,  16,  14], k=4, \n",
    "\n",
    "对应重新排序的数组为：[1,  3,  2,  4]  [7,  6,  5,  8]  [12,  11,  10,  9]  [13,  14,  16,  15]\n",
    "\n",
    "\n"
   ]
  },
  {
   "cell_type": "markdown",
   "metadata": {},
   "source": [
    "idea："
   ]
  },
  {
   "cell_type": "markdown",
   "metadata": {},
   "source": [
    "本题借助了大模型\n",
    "\n",
    "问题1.\n",
    "*  快速排序的最坏情况时间复杂度为 O(n²)，主要因为分区基准选择不当。\n",
    "    通过使用 BB 函数在 O(n) 时间内找到中位数作为基准，可以确保每次分区将数组分为大致相等的两部分，从而将时间复杂度降至 O(nlogn)。\n",
    "* 时间复杂度分析：每次递归调用 BB 函数的时间为 O(n)，分区后子问题规模减半。递归深度为 O(log n)，每层总时间为 O(n)，因此总时间复杂度为 O(n log n)。\n",
    "\n",
    "\n",
    "问题2.\n",
    "先用BB找到第k小的元素x,再次用BB找到第⌊k/2⌋小的元素y,递归处理两个子区间\n",
    "\n",
    "问题3.\n",
    "* 使用类似归并排序的思想，但只进行log k次合并\n",
    "* 时间复杂度分析：递归深度为logk,每层工作量为O(n)，因此总时间复杂度为O(nlogk)"
   ]
  },
  {
   "cell_type": "code",
   "execution_count": null,
   "metadata": {},
   "outputs": [],
   "source": [
    "# add your pseudo-code here\n",
    "问题1：\n",
    "\n",
    "Modified_Quicksort(A, p, r)\n",
    "    if p < r\n",
    "        q = BB(A, p, r, (r - p + 1) // 2)  // 使用 BB 找到中位数的下标\n",
    "        Modified_Quicksort(A, p, q - 1)\n",
    "        Modified_Quicksort(A, q + 1, r)\n",
    "\n",
    "\n",
    "问题2：\n",
    "Find_Top_k(A, k)\n",
    "    if k == 0\n",
    "        return []\n",
    "    idx = BB(A, 1, n, k)  // 找到第 k 小元素的下标\n",
    "    pivot = A[idx]\n",
    "    result = []\n",
    "    count = 0\n",
    "    for i from 1 to n:\n",
    "        if A[i] < pivot:\n",
    "            result.append(A[i])\n",
    "            count += 1\n",
    "        elif A[i] == pivot and count < k:\n",
    "            result.append(A[i])\n",
    "            count += 1\n",
    "    return result\n",
    "\n",
    "问题3：\n",
    "Divide_Array(A, p, r, k)\n",
    "    if k == 1 or p == r\n",
    "        return\n",
    "    m = (r - p + 1) // 2  // 当前子数组的中点\n",
    "    idx = BB(A, p, r, m)  // 找到中点元素的下标\n",
    "    Divide_Array(A, p, idx - 1, k // 2)\n",
    "    Divide_Array(A, idx + 1, r, k // 2)"
   ]
  },
  {
   "cell_type": "markdown",
   "metadata": {},
   "source": [
    "## 问题 10：\n",
    "\n",
    "给定一个包含m个**字符串**的数组A, 其中不同的字符串可能有不同的字符数, 但数组中所有字符串的字符总数为n。设计一个算法在 $O(n)$ 时间内对字符串进行排序, 分析算法设计方案, 计算其时间复杂度, 并基于python编程实现该算法。请注意, 假设字符串只包含\"a\",\"b\",...,\"z\", \n",
    "\n",
    "\n",
    "\n",
    "举例1：数组A=[\"a\", \"da\", \"bde\", \"ab\", \"bc\", \"abdc\", \"cdba\"], 排序后的数组应该为：['a', 'ab', 'abdc', 'bc', 'bde', 'cdba', 'da']\n",
    "\n",
    "\n",
    "\n",
    "举例2：数组A=['ab', 'a', 'b', 'abc', 'ba', 'c'], 排序后的数组应该为：\n",
    "\n",
    "['a', 'ab', 'abc', 'b', 'ba', 'c']\n",
    "\n",
    "\n",
    "\n",
    "举例3：数组A=['aef', 'yzr', 'wr', 'ab', 'bhjc', 'lkabdc', 'pwcdba'],  排序后的数组应该为：['ab', 'aef', 'bhjc', 'lkabdc', 'pwcdba', 'wr', 'yzr']\n",
    "\n",
    "\n",
    "\n",
    "note：\n",
    "\n",
    "-  两个字符之间的比较可以考虑比较他们对应的ASCII码值；\n",
    "- python中可以使用`ord(\"a\")`返回字符 “a”对应的ASCII值"
   ]
  },
  {
   "cell_type": "markdown",
   "metadata": {},
   "source": [
    "idea:"
   ]
  },
  {
   "cell_type": "markdown",
   "metadata": {},
   "source": [
    "本题在大模型帮助下完成\n",
    "要求时间复杂度是O(n)那就说明不能用比较算法，因为比较算法的极限是O(nlogn)\n",
    "字符串只包含小写字母'a'-'z'，共26种可能，并且需要字符串拆分成一个个的字母来进行排序，这个基数排序的思想很像，因此考虑采用基数排序\n",
    "可以使用计数排序作为子程序。需要从最短字符串到最长字符串逐步处理，类似最低位优先的基数排序。\n",
    "算法步骤如下：\n",
    "按照基数排序的思路，就是两部分操作：分配、收集\n",
    "1. 根据最右侧字符的ascii码将字符串分配进对应的桶中\n",
    "2. 从桶中依次取出所有数据\n",
    "3. 再根据倒数第二个字符的ascii码将字符串分配进对应的桶中\n",
    "4. 从同中取出所有数据\n",
    "5. 不断迭代"
   ]
  },
  {
   "cell_type": "code",
   "execution_count": 55,
   "metadata": {},
   "outputs": [
    {
     "name": "stdout",
     "output_type": "stream",
     "text": [
      "排序前: ['a', 'da', 'bde', 'ab', 'bc', 'abdc', 'cdba']\n",
      "排序后: ['a', 'ab', 'abdc', 'bc', 'bde', 'cdba', 'da']\n"
     ]
    }
   ],
   "source": [
    "def radix_sort_strings(A):\n",
    "    # 找到最长字符串的长度\n",
    "    max_length = max(len(s) for s in A)\n",
    "    \n",
    "    # 从右到左逐位处理字符\n",
    "    for i in range(max_length - 1, -1, -1):\n",
    "        # 创建27个桶（26个字母 + 1个桶用于较短字符串）\n",
    "        buckets = [[] for _ in range(27)]\n",
    "        \n",
    "        # 分配\n",
    "        for s in A:\n",
    "            if i < len(s):\n",
    "                char = s[i]\n",
    "                idx = ord(char) - ord('a') + 1\n",
    "            else:\n",
    "                idx = 0\n",
    "            buckets[idx].append(s)\n",
    "        \n",
    "        # 收集\n",
    "        A = []\n",
    "        for bucket in buckets:\n",
    "            A.extend(bucket)\n",
    "    \n",
    "    return A\n",
    "\n",
    "# 示例测试\n",
    "A1 = [\"a\", \"da\", \"bde\", \"ab\", \"bc\", \"abdc\", \"cdba\"]\n",
    "print(\"排序前:\", A1)\n",
    "print(\"排序后:\", radix_sort_strings(A1))\n"
   ]
  }
 ],
 "metadata": {
  "kernelspec": {
   "display_name": "Python 3",
   "language": "python",
   "name": "python3"
  },
  "language_info": {
   "codemirror_mode": {
    "name": "ipython",
    "version": 3
   },
   "file_extension": ".py",
   "mimetype": "text/x-python",
   "name": "python",
   "nbconvert_exporter": "python",
   "pygments_lexer": "ipython3",
   "version": "3.10.14"
  }
 },
 "nbformat": 4,
 "nbformat_minor": 2
}
